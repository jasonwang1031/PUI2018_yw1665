{
 "cells": [
  {
   "cell_type": "code",
   "execution_count": 25,
   "metadata": {},
   "outputs": [],
   "source": [
    "import pandas as pd\n",
    "from math import sqrt"
   ]
  },
  {
   "cell_type": "markdown",
   "metadata": {},
   "source": [
    "\n",
    "Null Hypothesis: The average time for X8 to complete the original route is the same or less than the average time to complete the new route, significant level p = 0.05.\n",
    "\n",
    "Alternative Hypothesis: The average time for X8 to complete the original route is more than the average time to complete the new route.\n",
    "  \n",
    "      \n",
    "$H_0$: $\\mu_0$ <= $\\mu_1$\n",
    "\n",
    "$H_1$: $\\mu_0$ > $\\mu_1$\n",
    "\n",
    "$\\alpha$ = 0.05\n"
   ]
  },
  {
   "cell_type": "code",
   "execution_count": 26,
   "metadata": {},
   "outputs": [],
   "source": [
    "df = pd.read_fwf('times.txt', names=['Time'])"
   ]
  },
  {
   "cell_type": "code",
   "execution_count": 27,
   "metadata": {},
   "outputs": [],
   "source": [
    "new_mean = df['Time'].mean()\n",
    "new_std = df['Time'].std()\n",
    "n = df['Time'].count()\n",
    "ori_mean = 36\n",
    "ori_std = 6"
   ]
  },
  {
   "cell_type": "code",
   "execution_count": 28,
   "metadata": {},
   "outputs": [
    {
     "name": "stdout",
     "output_type": "stream",
     "text": [
      "34.4661616883\n",
      "7.13728013375\n"
     ]
    }
   ],
   "source": [
    "print(new_mean)\n",
    "print(new_std)"
   ]
  },
  {
   "cell_type": "code",
   "execution_count": 29,
   "metadata": {},
   "outputs": [],
   "source": [
    "z = (ori_mean - new_mean)/(ori_std/sqrt(n))"
   ]
  },
  {
   "cell_type": "code",
   "execution_count": 30,
   "metadata": {},
   "outputs": [
    {
     "name": "stdout",
     "output_type": "stream",
     "text": [
      "2.55639718617\n"
     ]
    }
   ],
   "source": [
    "print(z)"
   ]
  },
  {
   "cell_type": "markdown",
   "metadata": {},
   "source": [
    "2.556 sigma (z = 2.556) indicates an out of 95% probability, which means the probability to obtain a sample mean of 34.466 is less than 5%. \n",
    "\n",
    "However, $\\alpha=0.05$ corresponds to 95% inclusion, which means the probability to obtain a certain sample mean should be equal or more than 5%.\n",
    "\n",
    "Based on the information, we can conclude: P value < 0.05. \n",
    "\n",
    "So, we have to reject the null hypothesis, and conclude that the average time for X8 to complete the original route is significantly more than the average time to complete the new route. The implementation of an alternative bus route for bus line X8 can improve circulation."
   ]
  }
 ],
 "metadata": {
  "kernelspec": {
   "display_name": "PUI2016_Python3",
   "language": "python",
   "name": "pui2016_python3"
  },
  "language_info": {
   "codemirror_mode": {
    "name": "ipython",
    "version": 3
   },
   "file_extension": ".py",
   "mimetype": "text/x-python",
   "name": "python",
   "nbconvert_exporter": "python",
   "pygments_lexer": "ipython3",
   "version": "3.5.4"
  }
 },
 "nbformat": 4,
 "nbformat_minor": 2
}
