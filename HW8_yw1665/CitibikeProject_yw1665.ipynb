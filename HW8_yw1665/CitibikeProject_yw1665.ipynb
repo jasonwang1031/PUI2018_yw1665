{
 "cells": [
  {
   "cell_type": "code",
   "execution_count": 15,
   "metadata": {},
   "outputs": [
    {
     "name": "stdout",
     "output_type": "stream",
     "text": [
      "Populating the interactive namespace from numpy and matplotlib\n",
      "Must set env variable PUI2018\n"
     ]
    }
   ],
   "source": [
    "from __future__  import print_function, division\n",
    "import pylab as pl\n",
    "import pandas as pd\n",
    "import numpy as np\n",
    "import os\n",
    "import json\n",
    "%pylab inline\n",
    "\n",
    "\n",
    "if os.getenv ('PUI2018') is None:\n",
    "    print (\"Must set env variable PUI2018\")\n",
    "if os.getenv ('PUIDATA') is None:\n",
    "    print (\"Must set env variable PUIDATA\")"
   ]
  },
  {
   "cell_type": "markdown",
   "metadata": {},
   "source": [
    "Idea: Customer (24-hour pass) are less likely than Subscriber (Annual Member) to choose biking for commuting\n",
    "\n",
    "Null Hypothesis: The proportion of Subscriber biking on weekends is the same or higher than the proportion of Customer biking on weekends\n",
    "\n",
    "Alternative Hypothesis: The proportion of Subscriber biking on weekends is less than the proportion of Customer biking on weekends\n",
    "\n",
    "# _$H_0$_ : $\\frac{C_{\\mathrm{weekend}}}{C_{\\mathrm{total}}} - \\frac{S_{\\mathrm{weekend}}}{S_{\\mathrm{total}}} <= 0 $\n",
    " \n",
    "# _$H_1$_ : $\\frac{c_{\\mathrm{weekend}}}{C_{\\mathrm{total}}} - \\frac{S_{\\mathrm{weekend}}}{S_{\\mathrm{total}}} > 0$\n",
    "\n",
    "I will use a significance level  α=0.05α=0.05 \n",
    "which means I want the probability of getting a result at least as significant as mine to be less then 5%"
   ]
  },
  {
   "cell_type": "code",
   "execution_count": 16,
   "metadata": {},
   "outputs": [],
   "source": [
    "#I directly used this code from the example python notebook\n",
    "\n",
    "def getCitiBikeCSV(datestring):\n",
    "    print (\"Downloading\", datestring)\n",
    "    if not os.path.isfile(os.getenv(\"PUIDATA\") + \"/\" + datestring + \"-citibike-tripdata.csv\"):\n",
    "        if os.path.isfile(datestring + \"-citibike-tripdata.csv\"):\n",
    "            if os.system(\"mv \" + datestring + \"-citibike-tripdata.csv \" + os.getenv(\"PUIDATA\")):\n",
    "                print (\"Error moving file!, Please check!\")\n",
    "        else:\n",
    "            if not os.path.isfile(os.getenv(\"PUIDATA\") + \"/\" + datestring + \"-citibike-tripdata.zip\"):\n",
    "                if not os.path.isfile(datestring + \"-citibike-tripdata.zip\"):\n",
    "                    os.system(\"curl -O https://s3.amazonaws.com/tripdata/\" + datestring + \"-citibike-tripdata.zip\")\n",
    "                os.system(\"mv \" + datestring + \"-citibike-tripdata.zip \" + os.getenv(\"PUIDATA\"))\n",
    "            os.system(\"unzip \" + os.getenv(\"PUIDATA\") + \"/\" + datestring + \"-citibike-tripdata.zip\")\n",
    "            if '2014' in datestring:\n",
    "                os.system(\"mv \" + datestring[:4] + '-' +  datestring[4:] + \n",
    "                          \"\\ -\\ Citi\\ Bike\\ trip\\ data.csv \" + datestring + \"-citibike-tripdata.csv\")\n",
    "            os.system(\"mv \" + datestring + \"-citibike-tripdata.csv \" + os.getenv(\"PUIDATA\"))\n",
    "    if not os.path.isfile(os.getenv(\"PUIDATA\") + \"/\" + datestring + \"-citibike-tripdata.csv\"):\n",
    "        print (\"WARNING!!! something is wrong: the file is not there!\")\n",
    "    else:\n",
    "        print (\"file in place, you can continue\")"
   ]
  },
  {
   "cell_type": "code",
   "execution_count": 17,
   "metadata": {},
   "outputs": [
    {
     "name": "stdout",
     "output_type": "stream",
     "text": [
      "Downloading 201601\n",
      "file in place, you can continue\n",
      "Downloading 201602\n",
      "file in place, you can continue\n"
     ]
    }
   ],
   "source": [
    "#initiate the data frame \n",
    "datestring = '201601'\n",
    "getCitiBikeCSV(datestring)\n",
    "df_1 = pd.read_csv(os.getenv(\"PUIDATA\") + \"/\" + datestring + '-citibike-tripdata.csv')\n",
    "datestring = '201602'\n",
    "getCitiBikeCSV(datestring)\n",
    "df_2 = pd.read_csv(os.getenv(\"PUIDATA\") + \"/\" + datestring + '-citibike-tripdata.csv')\n",
    "\n",
    "frames = [df_1, df_2]\n",
    "df = pd.concat(frames,ignore_index=True)\n",
    "df['date'] = pd.to_datetime(df['starttime'],format=\"%m/%d/%Y %H:%M:%S\")"
   ]
  },
  {
   "cell_type": "code",
   "execution_count": 18,
   "metadata": {},
   "outputs": [],
   "source": [
    "#drop unnecessary columns\n",
    "df.drop(['tripduration', 'starttime', 'stoptime', 'start station id',\n",
    "       'start station name', 'start station latitude',\n",
    "       'start station longitude', 'end station id', 'end station name',\n",
    "       'end station latitude', 'end station longitude', 'bikeid',\n",
    "       'birth year', 'gender'], axis=1,inplace=True)"
   ]
  },
  {
   "cell_type": "code",
   "execution_count": 20,
   "metadata": {},
   "outputs": [],
   "source": [
    "counts_s = df.date[df.usertype == 'Subscriber'].groupby([df.date.dt.weekday]).count()\n",
    "error_s = np.sqrt(counts_s)\n",
    "norm_s = counts_s.sum()\n",
    "\n",
    "counts_c = df.date[df.usertype == 'Customer'].groupby([df.date.dt.weekday]).count()\n",
    "error_c = np.sqrt(counts_c)\n",
    "norm_c = counts_c.sum()"
   ]
  },
  {
   "cell_type": "code",
   "execution_count": 32,
   "metadata": {},
   "outputs": [
    {
     "data": {
      "text/plain": [
       "0.00087364259178389261"
      ]
     },
     "execution_count": 32,
     "metadata": {},
     "output_type": "execute_result"
    }
   ],
   "source": [
    "eweek_s"
   ]
  },
  {
   "cell_type": "code",
   "execution_count": 22,
   "metadata": {},
   "outputs": [],
   "source": [
    "week_s = sum(counts_s[:-2]) * 1.0 / norm_s\n",
    "week_c = sum(counts_c[:-2]) * 1.0 / norm_c\n",
    "\n",
    "weekend_s = sum(counts_s[-2:]) * 1.0 / norm_s\n",
    "weekend_c = sum(counts_c[-2:]) * 1.0 / norm_c\n",
    "\n",
    "eweek_s = np.sqrt(sum(error_s[:-2]**2)) / norm_s  \n",
    "eweek_c = np.sqrt(sum(error_c[:-2]**2)) / norm_c\n",
    "\n",
    "eweekend_s = np.sqrt(sum(error_s[-2:]**2)) / norm_s \n",
    "eweekend_c = np.sqrt(sum(error_c[-2:]**2)) / norm_c"
   ]
  },
  {
   "cell_type": "code",
   "execution_count": 36,
   "metadata": {},
   "outputs": [
    {
     "data": {
      "text/plain": [
       "<matplotlib.legend.Legend at 0x7fe9eb5a2470>"
      ]
     },
     "execution_count": 36,
     "metadata": {},
     "output_type": "execute_result"
    },
    {
     "data": {
      "image/png": "[encoded data removed]",
      "text/plain": [
       "<matplotlib.figure.Figure at 0x7fe9f3abca20>"
      ]
     },
     "metadata": {},
     "output_type": "display_data"
    }
   ],
   "source": [
    "fig = pl.figure(figsize(15,6))\n",
    "ax1 = fig.add_subplot(121)\n",
    "ax2 = fig.add_subplot(122)\n",
    "ax1.set_xticks([])\n",
    "ax2.set_xticks([])\n",
    "\n",
    "\n",
    "ax1.errorbar([0.2], [week_s], yerr=[eweek_s], fmt='o', label='Subscriber')\n",
    "ax1.errorbar([0.3], [week_c], yerr=[eweek_c], fmt='o', label='Customer')\n",
    "ax1.set_xlim(0, 0.5)\n",
    "ax2.errorbar([0.2], [weekend_s], yerr=[eweekend_s], fmt='o', label='Subscriber')\n",
    "ax2.errorbar([0.3], [weekend_c], yerr=[eweekend_c], fmt='o', label='Customer')\n",
    "ax1.set_xlim(0, 0.5)\n",
    "ax1.set_title(\"week days\",fontsize=16)\n",
    "ax2.set_title(\"weekends\",fontsize=16)\n",
    "ax2.set_ylabel(\"Fraction of normalized rides by User Type\",fontsize=12)\n",
    "ax1.set_ylabel(\"Fraction of normalized rides by User Type\",fontsize=12)\n",
    "pl.xlim(-0.5, 1.5)\n",
    "pl.legend(fontsize = 15)"
   ]
  },
  {
   "cell_type": "code",
   "execution_count": 9,
   "metadata": {},
   "outputs": [
    {
     "name": "stdout",
     "output_type": "stream",
     "text": [
      "difference between man and women on weekend:  0.334180587855\n",
      "We must check the significance before we reject the Null Hypothesis\n"
     ]
    }
   ],
   "source": [
    "P0mP1 = weekend_c - weekend_s\n",
    "print (\"difference between man and women on weekend: \", P0mP1)\n",
    "if P0mP1 <= 0:\n",
    "    # we are done...\n",
    "    print(\"In accordance with Null Hypothesis\")\n",
    "else:\n",
    "    # morework to do\n",
    "    print (\"We must check the significance before we reject the Null Hypothesis\")"
   ]
  },
  {
   "cell_type": "code",
   "execution_count": 10,
   "metadata": {},
   "outputs": [
    {
     "name": "stdout",
     "output_type": "stream",
     "text": [
      "The z statistics is 177.37\n"
     ]
    }
   ],
   "source": [
    "p = lambda p0, p1, n0, n1: (p0 * n0 + p1 * n1) / (n0 + n1)\n",
    "se = lambda p, n0, n1: np.sqrt(p * (1 - p) * (1.0 / n0 + 1.0 / n1)) #standard error\n",
    "zscore = lambda p0, p1, s : (p0 - p1) / s\n",
    "\n",
    "# calculations\n",
    "\n",
    "sp_stdev_sc = se(p(weekend_c, weekend_s, norm_c, norm_s), norm_c, norm_s)\n",
    "# print (sp_stdev_mw)\n",
    "z = zscore(weekend_c, weekend_s, sp_stdev_sc)\n",
    "print (\"The z statistics is %.2f\"%z)"
   ]
  },
  {
   "cell_type": "markdown",
   "metadata": {},
   "source": [
    "Because z statistics is 177.37, much larger than 3, the according p value should less than 0.0002. \n",
    "\n",
    "P is less than the significance level I chosen (p < 0.0.5), so we have to reject the null hypothesis.\n",
    "\n",
    "We can conclude that Subscriber (Annual Member) are more likely to choose biking for commuting."
   ]
  },
  {
   "cell_type": "code",
   "execution_count": 11,
   "metadata": {},
   "outputs": [
    {
     "name": "stdout",
     "output_type": "stream",
     "text": [
      "Downloading 201607\n",
      "file in place, you can continue\n"
     ]
    }
   ],
   "source": [
    "#To test the robustness of my result, I decided to see if it also holds in the summer time. \n",
    "datestring = '201607'\n",
    "getCitiBikeCSV(datestring)\n",
    "df = pd.read_csv(os.getenv(\"PUIDATA\") + \"/\" + datestring + '-citibike-tripdata.csv')\n",
    "df['date'] = pd.to_datetime(df['starttime'],format=\"%m/%d/%Y %H:%M:%S\")"
   ]
  },
  {
   "cell_type": "code",
   "execution_count": 12,
   "metadata": {},
   "outputs": [],
   "source": [
    "counts_s07 = df.date[df.usertype == 'Subscriber'].groupby([df.date.dt.weekday]).count()\n",
    "counts_c07 = df.date[df.usertype == 'Customer'].groupby([df.date.dt.weekday]).count()\n",
    "norm_s07 = counts_s07.sum()\n",
    "norm_c07 = counts_c07.sum()"
   ]
  },
  {
   "cell_type": "code",
   "execution_count": 13,
   "metadata": {},
   "outputs": [],
   "source": [
    "week_s07 = sum(counts_s07[0:4]) * 1.0 / norm_s\n",
    "week_c07 = sum(counts_c07[:-2]) * 1.0 / norm_c\n",
    "weekend_s07 = sum(counts_s07[-2:]) * 1.0 / norm_s\n",
    "weekend_c07 = sum(counts_c07[-2:]) * 1.0 / norm_c"
   ]
  },
  {
   "cell_type": "code",
   "execution_count": 14,
   "metadata": {},
   "outputs": [
    {
     "name": "stdout",
     "output_type": "stream",
     "text": [
      "The z statistics is 1255.98\n"
     ]
    }
   ],
   "source": [
    "p = lambda p0, p1, n0, n1: (p0 * n0 + p1 * n1) / (n0 + n1)\n",
    "se = lambda p, n0, n1: np.sqrt(p * (1 - p) * (1.0 / n0 + 1.0 / n1)) #standard error\n",
    "zscore = lambda p0, p1, s : (p0 - p1) / s\n",
    "\n",
    "# calculations\n",
    "\n",
    "sp_stdev_sc07 = se(p(weekend_c07, weekend_s07, norm_c07, norm_s07), norm_c07, norm_s07)\n",
    "# print (sp_stdev_mw)\n",
    "z = zscore(weekend_c07, weekend_s07, sp_stdev_sc07)\n",
    "print (\"The z statistics is %.2f\"%z)"
   ]
  },
  {
   "cell_type": "markdown",
   "metadata": {},
   "source": [
    "The z statistics is 1255.98, which is even much larger in July (summer).\n",
    "\n",
    "T according p value should be less than 0.0002, and is less than the significance level I chosen (p < 0.0.5). So we have to reject the null hypothesis.\n",
    "\n",
    "We can conclude that Subscriber (Annual Member) are more likely to choose biking for commuting even in summer."
   ]
  }
 ],
 "metadata": {
  "kernelspec": {
   "display_name": "PUI2016_Python3",
   "language": "python",
   "name": "pui2016_python3"
  },
  "language_info": {
   "codemirror_mode": {
    "name": "ipython",
    "version": 3
   },
   "file_extension": ".py",
   "mimetype": "text/x-python",
   "name": "python",
   "nbconvert_exporter": "python",
   "pygments_lexer": "ipython3",
   "version": "3.5.4"
  }
 },
 "nbformat": 4,
 "nbformat_minor": 2
}
