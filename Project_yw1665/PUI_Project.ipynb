{
 "cells": [
  {
   "cell_type": "code",
   "execution_count": 73,
   "metadata": {
    "collapsed": true
   },
   "outputs": [],
   "source": [
    "import pandas as pd\n",
    "import numpy as np\n",
    "import geopandas as gp\n",
    "import shapely\n",
    "import requests\n",
    "from urllib.request import urlretrieve\n",
    "import zipfile \n",
    "from sodapy import Socrata\n",
    "import matplotlib.pyplot as plt\n",
    "\n",
    "import sklearn\n",
    "from sklearn.metrics import mean_squared_error\n",
    "from sklearn.metrics import mean_absolute_error\n",
    "\n",
    "import statsmodels.formula.api as smf\n",
    "\n",
    "from keras.models import Sequential\n",
    "from keras.layers import Dense\n",
    "from keras.layers import Dropout\n",
    "from keras.utils import np_utils\n",
    "from keras.datasets import mnist\n",
    "\n",
    "from xgboost import XGBClassifier\n",
    "%matplotlib inline"
   ]
  },
  {
   "cell_type": "markdown",
   "metadata": {},
   "source": [
    "## Data Preparation ##"
   ]
  },
  {
   "cell_type": "code",
   "execution_count": 74,
   "metadata": {
    "collapsed": true
   },
   "outputs": [],
   "source": [
    "# Download original dataset -- Extremely Time Consuming!!\n",
    "# 2016 Yellow Taxi Trip Data\n",
    "# https://data.cityofnewyork.us/dataset/2016-Yellow-Taxi-Trip-Data/uacg-pexx\n",
    "client = Socrata(\"data.cityofnewyork.us\", None)\n",
    "results = client.get(\"uacg-pexx\", limit=1000000000)\n",
    "complete_df = pd.DataFrame.from_records(results)"
   ]
  },
  {
   "cell_type": "code",
   "execution_count": 62,
   "metadata": {},
   "outputs": [
    {
     "data": {
      "text/plain": [
       "(2623301, 21)"
      ]
     },
     "execution_count": 62,
     "metadata": {},
     "output_type": "execute_result"
    }
   ],
   "source": [
    "# randomly sampling the original dataset \n",
    "# The original dataset is too big for the project\n",
    "# Export the sample to a csv file\n",
    "# I shared the reduced dataframe on my github\n",
    "# Set the random_state = 1 for reproducibility \n",
    "\n",
    "reduced_df = complete_df.sample(frac=0.02,random_state=1)\n",
    "reduced_df.to_csv('Project_Data.csv')\n",
    "reduced_df.shape"
   ]
  },
  {
   "cell_type": "code",
   "execution_count": 64,
   "metadata": {
    "collapsed": true
   },
   "outputs": [],
   "source": [
    "# Drop unnecessary columns and missing variables\n",
    "\n",
    "reduced_df.drop(columns=['VendorID','RatecodeID','store_and_fwd_flag','extra','mta_tax',\n",
    "                         'improvement_surcharge','tolls_amount','PULocationID',\n",
    "                         'DOLocationID'],inplace = True)\n",
    "\n",
    "reduced_df.dropna(inplace = True)"
   ]
  },
  {
   "cell_type": "code",
   "execution_count": 65,
   "metadata": {
    "collapsed": true
   },
   "outputs": [],
   "source": [
    "# Load the shape file\n",
    "\n",
    "urlretrieve(' https://data.cityofnewyork.us/download/i8iw-xf4u/application%2Fzip',\n",
    "                   'ZIP_CODE_040114.zip')\n",
    "fname = \"ZIP_CODE_040114.zip\"\n",
    "zf = zipfile.ZipFile(fname)\n",
    "zf.extractall()\n",
    "nyczipsshp = gp.read_file(\"ZIP_CODE_040114.shp\")"
   ]
  },
  {
   "cell_type": "code",
   "execution_count": 66,
   "metadata": {
    "collapsed": true
   },
   "outputs": [],
   "source": [
    "# Convert the dataframe to geodataframe\n",
    "\n",
    "reduced_df['dropoff_lonlat']=list(zip(reduced_df.dropoff_longitude,reduced_df.dropoff_latitude))\n",
    "reduced_df = gp.GeoDataFrame(reduced_df.drop(['dropoff_longitude', 'dropoff_latitude'], axis=1),\n",
    "                                crs={'init': 'epsg:4326'},\n",
    "                                geometry=[shapely.geometry.Point(x) for x in reduced_df.dropoff_lonlat])"
   ]
  },
  {
   "cell_type": "code",
   "execution_count": 67,
   "metadata": {
    "collapsed": true
   },
   "outputs": [],
   "source": [
    "# Standarize both gdf's epsg to 2263 for spaical join\n",
    "reduced_df_c = reduced_df.to_crs(epsg=2263)\n",
    "nyczipsshp_c = nyczipsshp.to_crs(epsg=2263)"
   ]
  },
  {
   "cell_type": "code",
   "execution_count": 79,
   "metadata": {
    "collapsed": true
   },
   "outputs": [],
   "source": [
    "# Spatial Join (in order to get the zipcode of the drop off location)\n",
    "project_df = gp.sjoin(reduced_df_c, nyczipsshp_c)"
   ]
  },
  {
   "cell_type": "code",
   "execution_count": 82,
   "metadata": {
    "collapsed": true
   },
   "outputs": [],
   "source": [
    "# Drop unnecessary columns and missing variables\n",
    "project_df = project_df[['ZIPCODE','tpep_pickup_datetime','passenger_count',\n",
    "                         'trip_distance','payment_type','fare_amount','COUNTY','total_amount','tip_amount']]\n",
    "\n",
    "project_df.dropna(inplace=True)"
   ]
  },
  {
   "cell_type": "code",
   "execution_count": 83,
   "metadata": {},
   "outputs": [
    {
     "data": {
      "text/plain": [
       "0    634\n",
       "1    634\n",
       "2    634\n",
       "3    634\n",
       "4    634\n",
       "Name: dropoff_homeprice, dtype: int64"
      ]
     },
     "execution_count": 83,
     "metadata": {},
     "output_type": "execute_result"
    }
   ],
   "source": [
    "#load and join the home price data from zillow\n",
    "#I only use the column for Median value per sq. ft.\n",
    "#https://www.zillow.com/new-york-ny/home-values/\n",
    "HPData = pd.read_csv(\"f\", skiprows=2)[['Region Name','Current']].iloc[1:]\n",
    "project_df  = pd.merge(project_df, HPData, left_on = 'ZIPCODE', right_on='Region Name',how='inner')\n",
    "\n",
    "#Drop missing variable\n",
    "project_df = project_df.loc[project_df['Current']!='---']\n",
    "project_df = project_df.loc[project_df['Current']!='--']\n",
    "\n",
    "project_df['dropoff_homeprice'] = project_df['Current'].str[1:].str.replace(',', '').astype('int')\n",
    "project_df['dropoff_homeprice'][0:5]"
   ]
  },
  {
   "cell_type": "code",
   "execution_count": 84,
   "metadata": {
    "collapsed": true
   },
   "outputs": [],
   "source": [
    "#load the weather data from NOAA\n",
    "#https://www.ncdc.noaa.gov/cdo-web/search\n",
    "\n",
    "WeatherData = pd.read_csv(\"Weather.csv\")\n",
    "WeatherData['DATE'] = pd.to_datetime(WeatherData['DATE'],infer_datetime_format=True).dt.date"
   ]
  },
  {
   "cell_type": "code",
   "execution_count": 85,
   "metadata": {
    "collapsed": true
   },
   "outputs": [],
   "source": [
    "#Merge the dataset to get the weather data on the day of each trip\n",
    "\n",
    "project_df['pickup_datetime'] = pd.to_datetime(project_df['tpep_pickup_datetime'], \n",
    "                                                      infer_datetime_format=True)\n",
    "\n",
    "project_df['pickup_date'] = project_df['pickup_datetime'].dt.date\n",
    "project_df = pd.merge(project_df, WeatherData, left_on = 'pickup_date', right_on='DATE',how='left')"
   ]
  },
  {
   "cell_type": "code",
   "execution_count": 87,
   "metadata": {
    "collapsed": true
   },
   "outputs": [],
   "source": [
    "# Create the \"tip_rate\" column\n",
    "project_df['tip_rate'] = project_df['tip_amount'] / project_df['total_amount']\n",
    "\n",
    "# Create the \"pickup_time\" column\n",
    "project_df['pickup_time'] = project_df['pickup_datetime'].dt.hour.astype('int')\n",
    "project_df['pickup_time'] = project_df['pickup_time'].apply(lambda x:'Morning' if x >=6 and x<12 else\n",
    "                                                       ('Afternoon' if x >= 12 and x < 18 else\n",
    "                                                        ('Evening' if x >=18 and x <24 else\n",
    "                                                        'Midnight')))"
   ]
  },
  {
   "cell_type": "code",
   "execution_count": 102,
   "metadata": {
    "collapsed": true
   },
   "outputs": [],
   "source": [
    "final_df = project_df[['tip_rate','passenger_count', 'trip_distance',\n",
    "       'payment_type', 'fare_amount','COUNTY', 'pickup_time', 'AWND', 'PRCP', 'SNOW','SNWD',\n",
    "       'TAVG','dropoff_homeprice']].rename(columns={'COUNTY':'dropoff_county','AWND':'pickup_awnd',\n",
    "                                                    'PRCP':'pickup_prcp', 'SNOW':'pickup_snow',\n",
    "                                                    'SNWD':'pickup_snwd','TAVG':'pickup_tavg'})"
   ]
  },
  {
   "cell_type": "code",
   "execution_count": 103,
   "metadata": {
    "collapsed": true
   },
   "outputs": [],
   "source": [
    "# drop outliers (larger than 3 standard deviation)\n",
    "final_df.dropna(inplace=True)\n",
    "outlier = final_df['tip_rate'].mean()+3*final_df['tip_rate'].std()\n",
    "final_df = final_df.loc[final_df['tip_rate']<outlier]"
   ]
  },
  {
   "cell_type": "code",
   "execution_count": 104,
   "metadata": {},
   "outputs": [
    {
     "data": {
      "text/plain": [
       "(array([450937.,  95596., 116371., 519213.,  43379.,   3303.,    632.,\n",
       "             0.,      0.,      0.,      0.]),\n",
       " array([0.        , 0.05454545, 0.10909091, 0.16363636, 0.21818182,\n",
       "        0.27272727, 0.32727273, 0.38181818, 0.43636364, 0.49090909,\n",
       "        0.54545455, 0.6       ]),\n",
       " <a list of 11 Patch objects>)"
      ]
     },
     "execution_count": 104,
     "metadata": {},
     "output_type": "execute_result"
    },
    {
     "data": {
      "image/png": "[encoded data removed]",
      "text/plain": [
       "<matplotlib.figure.Figure at 0x1a66c54da0>"
      ]
     },
     "metadata": {},
     "output_type": "display_data"
    }
   ],
   "source": [
    "plt.subplots(figsize=(10,8))\n",
    "plt.title('Tip Rate Distribution',fontsize=16)\n",
    "plt.xlabel('Tip Rate', fontsize=12)\n",
    "plt.ylabel('Count', fontsize=12)\n",
    "plt.hist(final_df['tip_rate'], np.linspace(0,0.6,12))"
   ]
  },
  {
   "cell_type": "markdown",
   "metadata": {},
   "source": [
    "Figure 1: Shown there a significant amount of people do not pay tax when taking yellow taxi"
   ]
  },
  {
   "cell_type": "code",
   "execution_count": 105,
   "metadata": {
    "collapsed": true
   },
   "outputs": [],
   "source": [
    "# It is really hard to predict wheather people pay tip or not\n",
    "# Including tip rate at 0 significant decrease the performance of the model\n",
    "# So I decided to drop the these rows\n",
    "\n",
    "final_df = final_df.loc[final_df['tip_rate']!=0]"
   ]
  },
  {
   "cell_type": "code",
   "execution_count": 106,
   "metadata": {
    "collapsed": true
   },
   "outputs": [],
   "source": [
    "# save the prepared data\n",
    "final_df.to_csv('final_Data.csv')"
   ]
  },
  {
   "cell_type": "markdown",
   "metadata": {},
   "source": [
    "## Visualization ##"
   ]
  },
  {
   "cell_type": "code",
   "execution_count": 107,
   "metadata": {},
   "outputs": [
    {
     "data": {
      "text/plain": [
       "(array([  9133.,  95596., 116371., 519213.,  43379.,   3303.,    632.,\n",
       "             0.,      0.,      0.,      0.]),\n",
       " array([0.        , 0.05454545, 0.10909091, 0.16363636, 0.21818182,\n",
       "        0.27272727, 0.32727273, 0.38181818, 0.43636364, 0.49090909,\n",
       "        0.54545455, 0.6       ]),\n",
       " <a list of 11 Patch objects>)"
      ]
     },
     "execution_count": 107,
     "metadata": {},
     "output_type": "execute_result"
    },
    {
     "data": {
      "image/png": "[encoded data removed]",
      "text/plain": [
       "<matplotlib.figure.Figure at 0x1a66bc9b00>"
      ]
     },
     "metadata": {},
     "output_type": "display_data"
    }
   ],
   "source": [
    "plt.subplots(figsize=(10,8))\n",
    "plt.title('Tip Rate Distribution',fontsize=16)\n",
    "plt.xlabel('Tip Rate', fontsize=12)\n",
    "plt.ylabel('Count', fontsize=12)\n",
    "plt.hist(final_df['tip_rate'], np.linspace(0,0.6,12))"
   ]
  },
  {
   "cell_type": "markdown",
   "metadata": {},
   "source": [
    "Figure 1: The histogram shows normally people pay tips at a tip rate between 10% - 20%."
   ]
  },
  {
   "cell_type": "code",
   "execution_count": 114,
   "metadata": {},
   "outputs": [
    {
     "data": {
      "text/plain": [
       "<matplotlib.collections.PathCollection at 0x1a666bc2b0>"
      ]
     },
     "execution_count": 114,
     "metadata": {},
     "output_type": "execute_result"
    },
    {
     "data": {
      "image/png": "[encoded data removed]",
      "text/plain": [
       "<matplotlib.figure.Figure at 0x1a66aed128>"
      ]
     },
     "metadata": {},
     "output_type": "display_data"
    }
   ],
   "source": [
    "plt.subplots(figsize=(10,8))\n",
    "plt.title('Home Price vs Tip Rate',fontsize=16)\n",
    "plt.xlabel('Home Price per sq.ft', fontsize=12)\n",
    "plt.ylabel('Tip Rate', fontsize=12)\n",
    "plt.scatter(final_df['dropoff_homeprice'], final_df['tip_rate'])"
   ]
  },
  {
   "cell_type": "markdown",
   "metadata": {},
   "source": [
    "Figure 2: The scatter plot shows that there are more people, who's drop off location has higer home price, pay high tip rate."
   ]
  },
  {
   "cell_type": "code",
   "execution_count": 115,
   "metadata": {},
   "outputs": [
    {
     "data": {
      "text/plain": [
       "<matplotlib.collections.PathCollection at 0x1a66b972b0>"
      ]
     },
     "execution_count": 115,
     "metadata": {},
     "output_type": "execute_result"
    },
    {
     "data": {
      "image/png": "[encoded data removed]",
      "text/plain": [
       "<matplotlib.figure.Figure at 0x1a66bd72e8>"
      ]
     },
     "metadata": {},
     "output_type": "display_data"
    }
   ],
   "source": [
    "plt.subplots(figsize=(10,8))\n",
    "plt.title('Home Price vs Trip Distance',fontsize=16)\n",
    "plt.xlabel('Trip Distance', fontsize=12)\n",
    "plt.ylabel('Tip Rate', fontsize=12)\n",
    "plt.scatter(final_df['trip_distance'], final_df['tip_rate'])"
   ]
  },
  {
   "cell_type": "markdown",
   "metadata": {},
   "source": [
    "Figure 3: The scatter plot shows that there's not a clear correlation between trip distance and tip rate."
   ]
  },
  {
   "cell_type": "code",
   "execution_count": 116,
   "metadata": {},
   "outputs": [
    {
     "data": {
      "text/plain": [
       "<matplotlib.collections.PathCollection at 0x1a66d0a470>"
      ]
     },
     "execution_count": 116,
     "metadata": {},
     "output_type": "execute_result"
    },
    {
     "data": {
      "image/png": "[encoded data removed]",
      "text/plain": [
       "<matplotlib.figure.Figure at 0x1a66d8f550>"
      ]
     },
     "metadata": {},
     "output_type": "display_data"
    }
   ],
   "source": [
    "plt.subplots(figsize=(10,8))\n",
    "plt.title('Average Temperature vs Trip Distance',fontsize=16)\n",
    "plt.xlabel('Temperature', fontsize=12)\n",
    "plt.ylabel('Tip Rate', fontsize=12)\n",
    "plt.scatter(final_df['pickup_tavg'], final_df['tip_rate'])"
   ]
  },
  {
   "cell_type": "markdown",
   "metadata": {},
   "source": [
    "Figure 3: The scatter plot shows that there's not a clear correlation between tip rate and the average temperature at the day of trip."
   ]
  },
  {
   "cell_type": "markdown",
   "metadata": {},
   "source": [
    "## Modeling ##"
   ]
  },
  {
   "cell_type": "code",
   "execution_count": 117,
   "metadata": {
    "collapsed": true
   },
   "outputs": [],
   "source": [
    "# split train and test data (70% : 30%)\n",
    "Train, Test = np.split(final_df.sample(frac=1, random_state=1), [int(.7*len(final_df))])"
   ]
  },
  {
   "cell_type": "markdown",
   "metadata": {},
   "source": [
    "### Linear Regression with all variables ### "
   ]
  },
  {
   "cell_type": "code",
   "execution_count": 118,
   "metadata": {
    "collapsed": true
   },
   "outputs": [],
   "source": [
    "RegressionModFull = smf.ols(formula='tip_rate ~ passenger_count + fare_amount + C(dropoff_county) + \\\n",
    "              C(pickup_time) + pickup_awnd + pickup_prcp + pickup_snow + pickup_snwd + pickup_tavg + \\\n",
    "                        dropoff_homeprice + trip_distance', \n",
    "                    data = Train).fit()"
   ]
  },
  {
   "cell_type": "code",
   "execution_count": 119,
   "metadata": {},
   "outputs": [
    {
     "data": {
      "text/html": [
       "<table class=\"simpletable\">\n",
       "<caption>OLS Regression Results</caption>\n",
       "<tr>\n",
       "  <th>Dep. Variable:</th>        <td>tip_rate</td>     <th>  R-squared:         </th>  <td>   0.012</td> \n",
       "</tr>\n",
       "<tr>\n",
       "  <th>Model:</th>                   <td>OLS</td>       <th>  Adj. R-squared:    </th>  <td>   0.011</td> \n",
       "</tr>\n",
       "<tr>\n",
       "  <th>Method:</th>             <td>Least Squares</td>  <th>  F-statistic:       </th>  <td>   401.7</td> \n",
       "</tr>\n",
       "<tr>\n",
       "  <th>Date:</th>             <td>Thu, 13 Dec 2018</td> <th>  Prob (F-statistic):</th>   <td>  0.00</td>  \n",
       "</tr>\n",
       "<tr>\n",
       "  <th>Time:</th>                 <td>18:38:19</td>     <th>  Log-Likelihood:    </th> <td>1.0008e+06</td>\n",
       "</tr>\n",
       "<tr>\n",
       "  <th>No. Observations:</th>      <td>551338</td>      <th>  AIC:               </th> <td>-2.002e+06</td>\n",
       "</tr>\n",
       "<tr>\n",
       "  <th>Df Residuals:</th>          <td>551321</td>      <th>  BIC:               </th> <td>-2.001e+06</td>\n",
       "</tr>\n",
       "<tr>\n",
       "  <th>Df Model:</th>              <td>    16</td>      <th>                     </th>      <td> </td>    \n",
       "</tr>\n",
       "<tr>\n",
       "  <th>Covariance Type:</th>      <td>nonrobust</td>    <th>                     </th>      <td> </td>    \n",
       "</tr>\n",
       "</table>\n",
       "<table class=\"simpletable\">\n",
       "<tr>\n",
       "                <td></td>                   <th>coef</th>     <th>std err</th>      <th>t</th>      <th>P>|t|</th>  <th>[0.025</th>    <th>0.975]</th>  \n",
       "</tr>\n",
       "<tr>\n",
       "  <th>Intercept</th>                     <td>    0.1654</td> <td>    0.001</td> <td>  137.470</td> <td> 0.000</td> <td>    0.163</td> <td>    0.168</td>\n",
       "</tr>\n",
       "<tr>\n",
       "  <th>C(dropoff_county)[T.Kings]</th>    <td>    0.0058</td> <td>    0.001</td> <td>    4.917</td> <td> 0.000</td> <td>    0.003</td> <td>    0.008</td>\n",
       "</tr>\n",
       "<tr>\n",
       "  <th>C(dropoff_county)[T.New York]</th> <td>   -0.0022</td> <td>    0.001</td> <td>   -1.910</td> <td> 0.056</td> <td>   -0.005</td> <td> 5.94e-05</td>\n",
       "</tr>\n",
       "<tr>\n",
       "  <th>C(dropoff_county)[T.Queens]</th>   <td>    0.0056</td> <td>    0.001</td> <td>    4.746</td> <td> 0.000</td> <td>    0.003</td> <td>    0.008</td>\n",
       "</tr>\n",
       "<tr>\n",
       "  <th>C(dropoff_county)[T.Richmond]</th> <td>    0.0233</td> <td>    0.003</td> <td>    6.807</td> <td> 0.000</td> <td>    0.017</td> <td>    0.030</td>\n",
       "</tr>\n",
       "<tr>\n",
       "  <th>C(pickup_time)[T.Evening]</th>     <td>   -0.0026</td> <td>    0.000</td> <td>  -19.054</td> <td> 0.000</td> <td>   -0.003</td> <td>   -0.002</td>\n",
       "</tr>\n",
       "<tr>\n",
       "  <th>C(pickup_time)[T.Midnight]</th>    <td>   -0.0041</td> <td>    0.000</td> <td>  -20.957</td> <td> 0.000</td> <td>   -0.004</td> <td>   -0.004</td>\n",
       "</tr>\n",
       "<tr>\n",
       "  <th>C(pickup_time)[T.Morning]</th>     <td>   -0.0015</td> <td>    0.000</td> <td>  -10.352</td> <td> 0.000</td> <td>   -0.002</td> <td>   -0.001</td>\n",
       "</tr>\n",
       "<tr>\n",
       "  <th>passenger_count</th>               <td>    0.0004</td> <td> 4.07e-05</td> <td>    8.758</td> <td> 0.000</td> <td>    0.000</td> <td>    0.000</td>\n",
       "</tr>\n",
       "<tr>\n",
       "  <th>fare_amount</th>                   <td>   -0.0009</td> <td> 1.79e-05</td> <td>  -50.446</td> <td> 0.000</td> <td>   -0.001</td> <td>   -0.001</td>\n",
       "</tr>\n",
       "<tr>\n",
       "  <th>pickup_awnd</th>                   <td> 4.947e-05</td> <td>  1.4e-05</td> <td>    3.534</td> <td> 0.000</td> <td>  2.2e-05</td> <td> 7.69e-05</td>\n",
       "</tr>\n",
       "<tr>\n",
       "  <th>pickup_prcp</th>                   <td>   -0.0002</td> <td>    0.000</td> <td>   -0.856</td> <td> 0.392</td> <td>   -0.001</td> <td>    0.000</td>\n",
       "</tr>\n",
       "<tr>\n",
       "  <th>pickup_snow</th>                   <td>    0.0002</td> <td> 6.32e-05</td> <td>    3.871</td> <td> 0.000</td> <td>    0.000</td> <td>    0.000</td>\n",
       "</tr>\n",
       "<tr>\n",
       "  <th>pickup_snwd</th>                   <td> 8.263e-06</td> <td>  2.4e-05</td> <td>    0.344</td> <td> 0.731</td> <td>-3.89e-05</td> <td> 5.54e-05</td>\n",
       "</tr>\n",
       "<tr>\n",
       "  <th>pickup_tavg</th>                   <td>-1.142e-05</td> <td> 3.82e-06</td> <td>   -2.992</td> <td> 0.003</td> <td>-1.89e-05</td> <td>-3.94e-06</td>\n",
       "</tr>\n",
       "<tr>\n",
       "  <th>dropoff_homeprice</th>             <td> 2.521e-06</td> <td> 2.58e-07</td> <td>    9.772</td> <td> 0.000</td> <td> 2.02e-06</td> <td> 3.03e-06</td>\n",
       "</tr>\n",
       "<tr>\n",
       "  <th>trip_distance</th>                 <td>    0.0014</td> <td> 5.19e-05</td> <td>   27.460</td> <td> 0.000</td> <td>    0.001</td> <td>    0.002</td>\n",
       "</tr>\n",
       "</table>\n",
       "<table class=\"simpletable\">\n",
       "<tr>\n",
       "  <th>Omnibus:</th>       <td>35955.942</td> <th>  Durbin-Watson:     </th> <td>   1.996</td> \n",
       "</tr>\n",
       "<tr>\n",
       "  <th>Prob(Omnibus):</th>  <td> 0.000</td>   <th>  Jarque-Bera (JB):  </th> <td>74184.571</td>\n",
       "</tr>\n",
       "<tr>\n",
       "  <th>Skew:</th>           <td>-0.450</td>   <th>  Prob(JB):          </th> <td>    0.00</td> \n",
       "</tr>\n",
       "<tr>\n",
       "  <th>Kurtosis:</th>       <td> 4.555</td>   <th>  Cond. No.          </th> <td>9.86e+04</td> \n",
       "</tr>\n",
       "</table>"
      ],
      "text/plain": [
       "<class 'statsmodels.iolib.summary.Summary'>\n",
       "\"\"\"\n",
       "                            OLS Regression Results                            \n",
       "==============================================================================\n",
       "Dep. Variable:               tip_rate   R-squared:                       0.012\n",
       "Model:                            OLS   Adj. R-squared:                  0.011\n",
       "Method:                 Least Squares   F-statistic:                     401.7\n",
       "Date:                Thu, 13 Dec 2018   Prob (F-statistic):               0.00\n",
       "Time:                        18:38:19   Log-Likelihood:             1.0008e+06\n",
       "No. Observations:              551338   AIC:                        -2.002e+06\n",
       "Df Residuals:                  551321   BIC:                        -2.001e+06\n",
       "Df Model:                          16                                         \n",
       "Covariance Type:            nonrobust                                         \n",
       "=================================================================================================\n",
       "                                    coef    std err          t      P>|t|      [0.025      0.975]\n",
       "-------------------------------------------------------------------------------------------------\n",
       "Intercept                         0.1654      0.001    137.470      0.000       0.163       0.168\n",
       "C(dropoff_county)[T.Kings]        0.0058      0.001      4.917      0.000       0.003       0.008\n",
       "C(dropoff_county)[T.New York]    -0.0022      0.001     -1.910      0.056      -0.005    5.94e-05\n",
       "C(dropoff_county)[T.Queens]       0.0056      0.001      4.746      0.000       0.003       0.008\n",
       "C(dropoff_county)[T.Richmond]     0.0233      0.003      6.807      0.000       0.017       0.030\n",
       "C(pickup_time)[T.Evening]        -0.0026      0.000    -19.054      0.000      -0.003      -0.002\n",
       "C(pickup_time)[T.Midnight]       -0.0041      0.000    -20.957      0.000      -0.004      -0.004\n",
       "C(pickup_time)[T.Morning]        -0.0015      0.000    -10.352      0.000      -0.002      -0.001\n",
       "passenger_count                   0.0004   4.07e-05      8.758      0.000       0.000       0.000\n",
       "fare_amount                      -0.0009   1.79e-05    -50.446      0.000      -0.001      -0.001\n",
       "pickup_awnd                    4.947e-05    1.4e-05      3.534      0.000     2.2e-05    7.69e-05\n",
       "pickup_prcp                      -0.0002      0.000     -0.856      0.392      -0.001       0.000\n",
       "pickup_snow                       0.0002   6.32e-05      3.871      0.000       0.000       0.000\n",
       "pickup_snwd                    8.263e-06    2.4e-05      0.344      0.731   -3.89e-05    5.54e-05\n",
       "pickup_tavg                   -1.142e-05   3.82e-06     -2.992      0.003   -1.89e-05   -3.94e-06\n",
       "dropoff_homeprice              2.521e-06   2.58e-07      9.772      0.000    2.02e-06    3.03e-06\n",
       "trip_distance                     0.0014   5.19e-05     27.460      0.000       0.001       0.002\n",
       "==============================================================================\n",
       "Omnibus:                    35955.942   Durbin-Watson:                   1.996\n",
       "Prob(Omnibus):                  0.000   Jarque-Bera (JB):            74184.571\n",
       "Skew:                          -0.450   Prob(JB):                         0.00\n",
       "Kurtosis:                       4.555   Cond. No.                     9.86e+04\n",
       "==============================================================================\n",
       "\n",
       "Warnings:\n",
       "[1] Standard Errors assume that the covariance matrix of the errors is correctly specified.\n",
       "[2] The condition number is large, 9.86e+04. This might indicate that there are\n",
       "strong multicollinearity or other numerical problems.\n",
       "\"\"\""
      ]
     },
     "execution_count": 119,
     "metadata": {},
     "output_type": "execute_result"
    }
   ],
   "source": [
    "RegressionModFull.summary()"
   ]
  },
  {
   "cell_type": "code",
   "execution_count": 120,
   "metadata": {},
   "outputs": [
    {
     "name": "stdout",
     "output_type": "stream",
     "text": [
      "0.02743404647563379\n"
     ]
    }
   ],
   "source": [
    "PredDF = pd.DataFrame()\n",
    "RegPred = RegressionModFull.predict(Test)\n",
    "PredDF['FullModel'] = RegPred\n",
    "mae1 = mean_absolute_error(Test['tip_rate'], PredDF['FullModel'])\n",
    "print(mae1)"
   ]
  },
  {
   "cell_type": "markdown",
   "metadata": {},
   "source": [
    "### Linear Regression with significant variables ###"
   ]
  },
  {
   "cell_type": "code",
   "execution_count": 121,
   "metadata": {
    "collapsed": true
   },
   "outputs": [],
   "source": [
    "RegressionModRedu = smf.ols(formula='tip_rate ~ passenger_count + fare_amount + C(dropoff_county) + \\\n",
    "              C(pickup_time) + pickup_awnd + pickup_snow + pickup_tavg + dropoff_homeprice', \n",
    "                    data = Train).fit()"
   ]
  },
  {
   "cell_type": "code",
   "execution_count": 122,
   "metadata": {},
   "outputs": [
    {
     "data": {
      "text/html": [
       "<table class=\"simpletable\">\n",
       "<caption>OLS Regression Results</caption>\n",
       "<tr>\n",
       "  <th>Dep. Variable:</th>        <td>tip_rate</td>     <th>  R-squared:         </th>  <td>   0.010</td> \n",
       "</tr>\n",
       "<tr>\n",
       "  <th>Model:</th>                   <td>OLS</td>       <th>  Adj. R-squared:    </th>  <td>   0.010</td> \n",
       "</tr>\n",
       "<tr>\n",
       "  <th>Method:</th>             <td>Least Squares</td>  <th>  F-statistic:       </th>  <td>   435.8</td> \n",
       "</tr>\n",
       "<tr>\n",
       "  <th>Date:</th>             <td>Thu, 13 Dec 2018</td> <th>  Prob (F-statistic):</th>   <td>  0.00</td>  \n",
       "</tr>\n",
       "<tr>\n",
       "  <th>Time:</th>                 <td>18:38:23</td>     <th>  Log-Likelihood:    </th> <td>1.0005e+06</td>\n",
       "</tr>\n",
       "<tr>\n",
       "  <th>No. Observations:</th>      <td>551338</td>      <th>  AIC:               </th> <td>-2.001e+06</td>\n",
       "</tr>\n",
       "<tr>\n",
       "  <th>Df Residuals:</th>          <td>551324</td>      <th>  BIC:               </th> <td>-2.001e+06</td>\n",
       "</tr>\n",
       "<tr>\n",
       "  <th>Df Model:</th>              <td>    13</td>      <th>                     </th>      <td> </td>    \n",
       "</tr>\n",
       "<tr>\n",
       "  <th>Covariance Type:</th>      <td>nonrobust</td>    <th>                     </th>      <td> </td>    \n",
       "</tr>\n",
       "</table>\n",
       "<table class=\"simpletable\">\n",
       "<tr>\n",
       "                <td></td>                   <th>coef</th>     <th>std err</th>      <th>t</th>      <th>P>|t|</th>  <th>[0.025</th>    <th>0.975]</th>  \n",
       "</tr>\n",
       "<tr>\n",
       "  <th>Intercept</th>                     <td>    0.1660</td> <td>    0.001</td> <td>  138.214</td> <td> 0.000</td> <td>    0.164</td> <td>    0.168</td>\n",
       "</tr>\n",
       "<tr>\n",
       "  <th>C(dropoff_county)[T.Kings]</th>    <td>    0.0041</td> <td>    0.001</td> <td>    3.512</td> <td> 0.000</td> <td>    0.002</td> <td>    0.006</td>\n",
       "</tr>\n",
       "<tr>\n",
       "  <th>C(dropoff_county)[T.New York]</th> <td>   -0.0040</td> <td>    0.001</td> <td>   -3.378</td> <td> 0.001</td> <td>   -0.006</td> <td>   -0.002</td>\n",
       "</tr>\n",
       "<tr>\n",
       "  <th>C(dropoff_county)[T.Queens]</th>   <td>    0.0040</td> <td>    0.001</td> <td>    3.409</td> <td> 0.001</td> <td>    0.002</td> <td>    0.006</td>\n",
       "</tr>\n",
       "<tr>\n",
       "  <th>C(dropoff_county)[T.Richmond]</th> <td>    0.0245</td> <td>    0.003</td> <td>    7.155</td> <td> 0.000</td> <td>    0.018</td> <td>    0.031</td>\n",
       "</tr>\n",
       "<tr>\n",
       "  <th>C(pickup_time)[T.Evening]</th>     <td>   -0.0021</td> <td>    0.000</td> <td>  -15.901</td> <td> 0.000</td> <td>   -0.002</td> <td>   -0.002</td>\n",
       "</tr>\n",
       "<tr>\n",
       "  <th>C(pickup_time)[T.Midnight]</th>    <td>   -0.0033</td> <td>    0.000</td> <td>  -17.052</td> <td> 0.000</td> <td>   -0.004</td> <td>   -0.003</td>\n",
       "</tr>\n",
       "<tr>\n",
       "  <th>C(pickup_time)[T.Morning]</th>     <td>   -0.0014</td> <td>    0.000</td> <td>   -9.309</td> <td> 0.000</td> <td>   -0.002</td> <td>   -0.001</td>\n",
       "</tr>\n",
       "<tr>\n",
       "  <th>passenger_count</th>               <td>    0.0004</td> <td> 4.07e-05</td> <td>    8.921</td> <td> 0.000</td> <td>    0.000</td> <td>    0.000</td>\n",
       "</tr>\n",
       "<tr>\n",
       "  <th>fare_amount</th>                   <td>   -0.0004</td> <td> 6.38e-06</td> <td>  -69.510</td> <td> 0.000</td> <td>   -0.000</td> <td>   -0.000</td>\n",
       "</tr>\n",
       "<tr>\n",
       "  <th>pickup_awnd</th>                   <td>  4.94e-05</td> <td> 1.36e-05</td> <td>    3.627</td> <td> 0.000</td> <td> 2.27e-05</td> <td> 7.61e-05</td>\n",
       "</tr>\n",
       "<tr>\n",
       "  <th>pickup_snow</th>                   <td>    0.0002</td> <td> 5.98e-05</td> <td>    3.722</td> <td> 0.000</td> <td>    0.000</td> <td>    0.000</td>\n",
       "</tr>\n",
       "<tr>\n",
       "  <th>pickup_tavg</th>                   <td>-1.622e-05</td> <td> 3.72e-06</td> <td>   -4.359</td> <td> 0.000</td> <td>-2.35e-05</td> <td>-8.92e-06</td>\n",
       "</tr>\n",
       "<tr>\n",
       "  <th>dropoff_homeprice</th>             <td> 2.038e-06</td> <td> 2.58e-07</td> <td>    7.912</td> <td> 0.000</td> <td> 1.53e-06</td> <td> 2.54e-06</td>\n",
       "</tr>\n",
       "</table>\n",
       "<table class=\"simpletable\">\n",
       "<tr>\n",
       "  <th>Omnibus:</th>       <td>36480.839</td> <th>  Durbin-Watson:     </th> <td>   1.996</td> \n",
       "</tr>\n",
       "<tr>\n",
       "  <th>Prob(Omnibus):</th>  <td> 0.000</td>   <th>  Jarque-Bera (JB):  </th> <td>74593.661</td>\n",
       "</tr>\n",
       "<tr>\n",
       "  <th>Skew:</th>           <td>-0.458</td>   <th>  Prob(JB):          </th> <td>    0.00</td> \n",
       "</tr>\n",
       "<tr>\n",
       "  <th>Kurtosis:</th>       <td> 4.551</td>   <th>  Cond. No.          </th> <td>9.86e+04</td> \n",
       "</tr>\n",
       "</table>"
      ],
      "text/plain": [
       "<class 'statsmodels.iolib.summary.Summary'>\n",
       "\"\"\"\n",
       "                            OLS Regression Results                            \n",
       "==============================================================================\n",
       "Dep. Variable:               tip_rate   R-squared:                       0.010\n",
       "Model:                            OLS   Adj. R-squared:                  0.010\n",
       "Method:                 Least Squares   F-statistic:                     435.8\n",
       "Date:                Thu, 13 Dec 2018   Prob (F-statistic):               0.00\n",
       "Time:                        18:38:23   Log-Likelihood:             1.0005e+06\n",
       "No. Observations:              551338   AIC:                        -2.001e+06\n",
       "Df Residuals:                  551324   BIC:                        -2.001e+06\n",
       "Df Model:                          13                                         \n",
       "Covariance Type:            nonrobust                                         \n",
       "=================================================================================================\n",
       "                                    coef    std err          t      P>|t|      [0.025      0.975]\n",
       "-------------------------------------------------------------------------------------------------\n",
       "Intercept                         0.1660      0.001    138.214      0.000       0.164       0.168\n",
       "C(dropoff_county)[T.Kings]        0.0041      0.001      3.512      0.000       0.002       0.006\n",
       "C(dropoff_county)[T.New York]    -0.0040      0.001     -3.378      0.001      -0.006      -0.002\n",
       "C(dropoff_county)[T.Queens]       0.0040      0.001      3.409      0.001       0.002       0.006\n",
       "C(dropoff_county)[T.Richmond]     0.0245      0.003      7.155      0.000       0.018       0.031\n",
       "C(pickup_time)[T.Evening]        -0.0021      0.000    -15.901      0.000      -0.002      -0.002\n",
       "C(pickup_time)[T.Midnight]       -0.0033      0.000    -17.052      0.000      -0.004      -0.003\n",
       "C(pickup_time)[T.Morning]        -0.0014      0.000     -9.309      0.000      -0.002      -0.001\n",
       "passenger_count                   0.0004   4.07e-05      8.921      0.000       0.000       0.000\n",
       "fare_amount                      -0.0004   6.38e-06    -69.510      0.000      -0.000      -0.000\n",
       "pickup_awnd                     4.94e-05   1.36e-05      3.627      0.000    2.27e-05    7.61e-05\n",
       "pickup_snow                       0.0002   5.98e-05      3.722      0.000       0.000       0.000\n",
       "pickup_tavg                   -1.622e-05   3.72e-06     -4.359      0.000   -2.35e-05   -8.92e-06\n",
       "dropoff_homeprice              2.038e-06   2.58e-07      7.912      0.000    1.53e-06    2.54e-06\n",
       "==============================================================================\n",
       "Omnibus:                    36480.839   Durbin-Watson:                   1.996\n",
       "Prob(Omnibus):                  0.000   Jarque-Bera (JB):            74593.661\n",
       "Skew:                          -0.458   Prob(JB):                         0.00\n",
       "Kurtosis:                       4.551   Cond. No.                     9.86e+04\n",
       "==============================================================================\n",
       "\n",
       "Warnings:\n",
       "[1] Standard Errors assume that the covariance matrix of the errors is correctly specified.\n",
       "[2] The condition number is large, 9.86e+04. This might indicate that there are\n",
       "strong multicollinearity or other numerical problems.\n",
       "\"\"\""
      ]
     },
     "execution_count": 122,
     "metadata": {},
     "output_type": "execute_result"
    }
   ],
   "source": [
    "RegressionModRedu.summary()"
   ]
  },
  {
   "cell_type": "code",
   "execution_count": 123,
   "metadata": {
    "collapsed": true
   },
   "outputs": [],
   "source": [
    "RegPred = RegressionModRedu.predict(Test)\n",
    "PredDF['ReducedModel'] = RegPred\n",
    "mae2 = mean_absolute_error(Test['tip_rate'], PredDF['ReducedModel'])"
   ]
  },
  {
   "cell_type": "markdown",
   "metadata": {},
   "source": [
    "### Deep Learning ###"
   ]
  },
  {
   "cell_type": "code",
   "execution_count": 124,
   "metadata": {
    "collapsed": true
   },
   "outputs": [],
   "source": [
    "DeepLearn_df = final_df.drop(columns=['pickup_prcp','pickup_snwd','trip_distance'])\n",
    "DeepLearn_df = DeepLearn_df.join(pd.get_dummies(DeepLearn_df['dropoff_county']))\n",
    "DeepLearn_df = DeepLearn_df.join(pd.get_dummies(DeepLearn_df['pickup_time']))"
   ]
  },
  {
   "cell_type": "code",
   "execution_count": 125,
   "metadata": {
    "collapsed": true
   },
   "outputs": [],
   "source": [
    "DeepLearn_df = DeepLearn_df.drop(columns=['dropoff_county','pickup_time'])\n",
    "DLTrain, DLTest = np.split(DeepLearn_df.sample(frac=1, random_state=1), [int(.7*len(DeepLearn_df))])"
   ]
  },
  {
   "cell_type": "code",
   "execution_count": 126,
   "metadata": {
    "collapsed": true
   },
   "outputs": [],
   "source": [
    "DLTrainX = DLTrain.drop(columns=['tip_rate'])\n",
    "DLTrainY = DLTrain[['tip_rate']]\n",
    "\n",
    "DLTestX = DLTest.drop(columns=['tip_rate'])\n",
    "DLTestY = DLTest[['tip_rate']]"
   ]
  },
  {
   "cell_type": "code",
   "execution_count": 127,
   "metadata": {
    "collapsed": true
   },
   "outputs": [],
   "source": [
    "dim = DLTrainX.shape[1]"
   ]
  },
  {
   "cell_type": "code",
   "execution_count": 128,
   "metadata": {},
   "outputs": [
    {
     "name": "stdout",
     "output_type": "stream",
     "text": [
      "Epoch 1/20\n",
      " - 8s - loss: 0.8133 - mean_absolute_error: 0.8133\n",
      "Epoch 2/20\n",
      " - 7s - loss: 0.1182 - mean_absolute_error: 0.1182\n",
      "Epoch 3/20\n",
      " - 7s - loss: 0.0467 - mean_absolute_error: 0.0467\n",
      "Epoch 4/20\n",
      " - 7s - loss: 0.0309 - mean_absolute_error: 0.0309\n",
      "Epoch 5/20\n",
      " - 7s - loss: 0.0254 - mean_absolute_error: 0.0254\n",
      "Epoch 6/20\n",
      " - 7s - loss: 0.0250 - mean_absolute_error: 0.0250\n",
      "Epoch 7/20\n",
      " - 7s - loss: 0.0245 - mean_absolute_error: 0.0245\n",
      "Epoch 8/20\n",
      " - 7s - loss: 0.0245 - mean_absolute_error: 0.0245\n",
      "Epoch 9/20\n",
      " - 7s - loss: 0.0245 - mean_absolute_error: 0.0245\n",
      "Epoch 10/20\n",
      " - 7s - loss: 0.0245 - mean_absolute_error: 0.0245\n",
      "Epoch 11/20\n",
      " - 7s - loss: 0.0245 - mean_absolute_error: 0.0245\n",
      "Epoch 12/20\n",
      " - 7s - loss: 0.0245 - mean_absolute_error: 0.0245\n",
      "Epoch 13/20\n",
      " - 7s - loss: 0.0245 - mean_absolute_error: 0.0245\n",
      "Epoch 14/20\n",
      " - 7s - loss: 0.0245 - mean_absolute_error: 0.0245\n",
      "Epoch 15/20\n",
      " - 7s - loss: 0.0245 - mean_absolute_error: 0.0245\n",
      "Epoch 16/20\n",
      " - 7s - loss: 0.0245 - mean_absolute_error: 0.0245\n",
      "Epoch 17/20\n",
      " - 7s - loss: 0.0245 - mean_absolute_error: 0.0245\n",
      "Epoch 18/20\n",
      " - 7s - loss: 0.0245 - mean_absolute_error: 0.0245\n",
      "Epoch 19/20\n",
      " - 7s - loss: 0.0245 - mean_absolute_error: 0.0245\n",
      "Epoch 20/20\n",
      " - 7s - loss: 0.0245 - mean_absolute_error: 0.0245\n"
     ]
    },
    {
     "data": {
      "text/plain": [
       "<keras.callbacks.History at 0x1a66cafa58>"
      ]
     },
     "execution_count": 128,
     "metadata": {},
     "output_type": "execute_result"
    }
   ],
   "source": [
    "np.random.seed(111)\n",
    "\n",
    "DLModel = Sequential()\n",
    "DLModel.add(Dense(units=32, activation='relu', input_dim=dim))\n",
    "DLModel.add(Dense(units=64, activation='relu', input_dim=dim))\n",
    "DLModel.add(Dense(units=64, activation='relu', input_dim=dim))\n",
    "DLModel.add(Dense(units=32, activation='relu', input_dim=dim)\n",
    "DLModel.add(Dense(units=1))\n",
    "\n",
    "# Compile, fit, and generate scores and predicted probabilities.\n",
    "DLModel.compile(loss='mae', optimizer='adam', metrics=['mae'])\n",
    "\n",
    "#model.fit(data, labels, epochs=20, batch_size=100)\n",
    "DLModel.fit(DLTrainX, DLTrainY, epochs=20, batch_size=200, verbose=2)"
   ]
  },
  {
   "cell_type": "code",
   "execution_count": 130,
   "metadata": {},
   "outputs": [
    {
     "name": "stdout",
     "output_type": "stream",
     "text": [
      "0.024557946791895262\n"
     ]
    }
   ],
   "source": [
    "DLPred = DLModel.predict(DLTestX)\n",
    "PredDF['DeepLearning'] = DLPred\n",
    "mae3 = mean_absolute_error(DLTestY['tip_rate'], PredDF['DeepLearning'])\n",
    "print(mae3)"
   ]
  },
  {
   "cell_type": "code",
   "execution_count": 137,
   "metadata": {},
   "outputs": [
    {
     "name": "stdout",
     "output_type": "stream",
     "text": [
      "The Mean Absolute Error of Linear Regression Model with all Variables is 0.0274\n",
      "The Mean Absolute Error of Linear Regression Model with only significant Variables is 0.0274\n",
      "The Deep Learning Model with Only Significant Variables from Regression Model is 0.0245\n"
     ]
    }
   ],
   "source": [
    "print('The Mean Absolute Error of Linear Regression Model with all Variables is ' + str(mae1)[0:6])\n",
    "print('The Mean Absolute Error of Linear Regression Model with only significant Variables is ' + str(mae2)[0:6])\n",
    "print('The Deep Learning Model with Only Significant Variables from Regression Model is ' + str(mae3)[0:6])"
   ]
  }
 ],
 "metadata": {
  "kernelspec": {
   "display_name": "Python 3",
   "language": "python",
   "name": "python3"
  },
  "language_info": {
   "codemirror_mode": {
    "name": "ipython",
    "version": 3
   },
   "file_extension": ".py",
   "mimetype": "text/x-python",
   "name": "python",
   "nbconvert_exporter": "python",
   "pygments_lexer": "ipython3",
   "version": "3.6.3"
  }
 },
 "nbformat": 4,
 "nbformat_minor": 2
}
