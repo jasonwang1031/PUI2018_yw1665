{
 "cells": [
  {
   "cell_type": "code",
   "execution_count": 39,
   "metadata": {},
   "outputs": [
    {
     "name": "stdout",
     "output_type": "stream",
     "text": [
      "Populating the interactive namespace from numpy and matplotlib\n"
     ]
    }
   ],
   "source": [
    "import pandas as pd\n",
    "from sodapy import Socrata\n",
    "%pylab inline"
   ]
  },
  {
   "cell_type": "code",
   "execution_count": 40,
   "metadata": {},
   "outputs": [
    {
     "name": "stderr",
     "output_type": "stream",
     "text": [
      "WARNING:root:Requests made without an app_token will be subject to strict throttling limits.\n"
     ]
    }
   ],
   "source": [
    "client = Socrata(\"data.cityofnewyork.us\", None)\n",
    "WQData = client.get(\"8c3c-yspd\")\n",
    "WQDATA_df = pd.DataFrame.from_records(WQData)"
   ]
  },
  {
   "cell_type": "code",
   "execution_count": 41,
   "metadata": {},
   "outputs": [
    {
     "data": {
      "text/html": [
       "<div>\n",
       "<style scoped>\n",
       "    .dataframe tbody tr th:only-of-type {\n",
       "        vertical-align: middle;\n",
       "    }\n",
       "\n",
       "    .dataframe tbody tr th {\n",
       "        vertical-align: top;\n",
       "    }\n",
       "\n",
       "    .dataframe thead th {\n",
       "        text-align: right;\n",
       "    }\n",
       "</style>\n",
       "<table border=\"1\" class=\"dataframe\">\n",
       "  <thead>\n",
       "    <tr style=\"text-align: right;\">\n",
       "      <th></th>\n",
       "      <th>average_24hrturbidity_ntu</th>\n",
       "      <th>coliform_fecal_fc_100ml</th>\n",
       "      <th>date</th>\n",
       "      <th>site</th>\n",
       "      <th>turbidity_ntu_at_12am</th>\n",
       "      <th>turbidity_ntu_at_12pm</th>\n",
       "      <th>turbidity_ntu_at_4am</th>\n",
       "      <th>turbidity_ntu_at_4pm</th>\n",
       "      <th>turbidity_ntu_at_8am</th>\n",
       "      <th>turbidity_ntu_at_8pm</th>\n",
       "    </tr>\n",
       "  </thead>\n",
       "  <tbody>\n",
       "    <tr>\n",
       "      <th>0</th>\n",
       "      <td>0.94</td>\n",
       "      <td>&lt;1</td>\n",
       "      <td>2015-05-27T00:00:00.000</td>\n",
       "      <td>DEL18DT</td>\n",
       "      <td>0.8</td>\n",
       "      <td>1.1</td>\n",
       "      <td>0.95</td>\n",
       "      <td>0.95</td>\n",
       "      <td>0.95</td>\n",
       "      <td>0.9</td>\n",
       "    </tr>\n",
       "    <tr>\n",
       "      <th>1</th>\n",
       "      <td>0.71</td>\n",
       "      <td>&lt;1</td>\n",
       "      <td>2015-08-28T00:00:00.000</td>\n",
       "      <td>DEL18DT</td>\n",
       "      <td>0.7</td>\n",
       "      <td>0.7</td>\n",
       "      <td>0.65</td>\n",
       "      <td>0.75</td>\n",
       "      <td>0.65</td>\n",
       "      <td>0.8</td>\n",
       "    </tr>\n",
       "    <tr>\n",
       "      <th>2</th>\n",
       "      <td>0.56</td>\n",
       "      <td>&lt;1</td>\n",
       "      <td>2015-08-15T00:00:00.000</td>\n",
       "      <td>DEL18DT</td>\n",
       "      <td>0.6</td>\n",
       "      <td>0.5</td>\n",
       "      <td>0.55</td>\n",
       "      <td>0.6</td>\n",
       "      <td>0.55</td>\n",
       "      <td>0.55</td>\n",
       "    </tr>\n",
       "    <tr>\n",
       "      <th>3</th>\n",
       "      <td>0.73</td>\n",
       "      <td>1</td>\n",
       "      <td>2015-08-27T00:00:00.000</td>\n",
       "      <td>DEL18DT</td>\n",
       "      <td>0.7</td>\n",
       "      <td>0.65</td>\n",
       "      <td>0.7</td>\n",
       "      <td>0.8</td>\n",
       "      <td>0.75</td>\n",
       "      <td>0.8</td>\n",
       "    </tr>\n",
       "    <tr>\n",
       "      <th>4</th>\n",
       "      <td>0.86</td>\n",
       "      <td>&lt;1</td>\n",
       "      <td>2015-05-31T00:00:00.000</td>\n",
       "      <td>DEL18DT</td>\n",
       "      <td>0.95</td>\n",
       "      <td>0.8</td>\n",
       "      <td>0.85</td>\n",
       "      <td>0.85</td>\n",
       "      <td>0.85</td>\n",
       "      <td>0.85</td>\n",
       "    </tr>\n",
       "    <tr>\n",
       "      <th>5</th>\n",
       "      <td>0.73</td>\n",
       "      <td>&lt;1</td>\n",
       "      <td>2015-08-31T00:00:00.000</td>\n",
       "      <td>DEL18DT</td>\n",
       "      <td>0.8</td>\n",
       "      <td>0.6</td>\n",
       "      <td>0.8</td>\n",
       "      <td>0.65</td>\n",
       "      <td>0.8</td>\n",
       "      <td>0.7</td>\n",
       "    </tr>\n",
       "    <tr>\n",
       "      <th>6</th>\n",
       "      <td>0.53</td>\n",
       "      <td>&lt;1</td>\n",
       "      <td>2015-08-16T00:00:00.000</td>\n",
       "      <td>DEL18DT</td>\n",
       "      <td>0.55</td>\n",
       "      <td>0.5</td>\n",
       "      <td>0.5</td>\n",
       "      <td>0.5</td>\n",
       "      <td>0.6</td>\n",
       "      <td>0.5</td>\n",
       "    </tr>\n",
       "    <tr>\n",
       "      <th>7</th>\n",
       "      <td>0.69</td>\n",
       "      <td>&lt;1</td>\n",
       "      <td>2015-09-04T00:00:00.000</td>\n",
       "      <td>DEL18DT</td>\n",
       "      <td>0.7</td>\n",
       "      <td>0.7</td>\n",
       "      <td>0.65</td>\n",
       "      <td>0.65</td>\n",
       "      <td>0.85</td>\n",
       "      <td>0.6</td>\n",
       "    </tr>\n",
       "  </tbody>\n",
       "</table>\n",
       "</div>"
      ],
      "text/plain": [
       "  average_24hrturbidity_ntu coliform_fecal_fc_100ml                     date  \\\n",
       "0                      0.94                      <1  2015-05-27T00:00:00.000   \n",
       "1                      0.71                      <1  2015-08-28T00:00:00.000   \n",
       "2                      0.56                      <1  2015-08-15T00:00:00.000   \n",
       "3                      0.73                       1  2015-08-27T00:00:00.000   \n",
       "4                      0.86                      <1  2015-05-31T00:00:00.000   \n",
       "5                      0.73                      <1  2015-08-31T00:00:00.000   \n",
       "6                      0.53                      <1  2015-08-16T00:00:00.000   \n",
       "7                      0.69                      <1  2015-09-04T00:00:00.000   \n",
       "\n",
       "      site turbidity_ntu_at_12am turbidity_ntu_at_12pm turbidity_ntu_at_4am  \\\n",
       "0  DEL18DT                   0.8                   1.1                 0.95   \n",
       "1  DEL18DT                   0.7                   0.7                 0.65   \n",
       "2  DEL18DT                   0.6                   0.5                 0.55   \n",
       "3  DEL18DT                   0.7                  0.65                  0.7   \n",
       "4  DEL18DT                  0.95                   0.8                 0.85   \n",
       "5  DEL18DT                   0.8                   0.6                  0.8   \n",
       "6  DEL18DT                  0.55                   0.5                  0.5   \n",
       "7  DEL18DT                   0.7                   0.7                 0.65   \n",
       "\n",
       "  turbidity_ntu_at_4pm turbidity_ntu_at_8am turbidity_ntu_at_8pm  \n",
       "0                 0.95                 0.95                  0.9  \n",
       "1                 0.75                 0.65                  0.8  \n",
       "2                  0.6                 0.55                 0.55  \n",
       "3                  0.8                 0.75                  0.8  \n",
       "4                 0.85                 0.85                 0.85  \n",
       "5                 0.65                  0.8                  0.7  \n",
       "6                  0.5                  0.6                  0.5  \n",
       "7                 0.65                 0.85                  0.6  "
      ]
     },
     "execution_count": 41,
     "metadata": {},
     "output_type": "execute_result"
    }
   ],
   "source": [
    "#Show the first 8 rows\n",
    "WQDATA_df.head(8)"
   ]
  },
  {
   "cell_type": "code",
   "execution_count": 46,
   "metadata": {},
   "outputs": [
    {
     "data": {
      "text/plain": [
       "Index([u'average_24hrturbidity_ntu', u'coliform_fecal_fc_100ml', u'date',\n",
       "       u'site', u'turbidity_ntu_at_12am', u'turbidity_ntu_at_12pm',\n",
       "       u'turbidity_ntu_at_4am', u'turbidity_ntu_at_4pm',\n",
       "       u'turbidity_ntu_at_8am', u'turbidity_ntu_at_8pm'],\n",
       "      dtype='object')"
      ]
     },
     "execution_count": 46,
     "metadata": {},
     "output_type": "execute_result"
    }
   ],
   "source": [
    "WQDATA_df.columns"
   ]
  },
  {
   "cell_type": "code",
   "execution_count": 47,
   "metadata": {},
   "outputs": [],
   "source": [
    "#Reduce dataframe\n",
    "WQDATA_df.drop(columns=['site', 'turbidity_ntu_at_4am',\n",
    "       'turbidity_ntu_at_8am', 'turbidity_ntu_at_12pm',\n",
    "       'turbidity_ntu_at_4pm', 'turbidity_ntu_at_8pm', 'coliform_fecal_fc_100ml'], inplace=True)"
   ]
  },
  {
   "cell_type": "code",
   "execution_count": 48,
   "metadata": {},
   "outputs": [
    {
     "data": {
      "text/html": [
       "<div>\n",
       "<style scoped>\n",
       "    .dataframe tbody tr th:only-of-type {\n",
       "        vertical-align: middle;\n",
       "    }\n",
       "\n",
       "    .dataframe tbody tr th {\n",
       "        vertical-align: top;\n",
       "    }\n",
       "\n",
       "    .dataframe thead th {\n",
       "        text-align: right;\n",
       "    }\n",
       "</style>\n",
       "<table border=\"1\" class=\"dataframe\">\n",
       "  <thead>\n",
       "    <tr style=\"text-align: right;\">\n",
       "      <th></th>\n",
       "      <th>average_24hrturbidity_ntu</th>\n",
       "      <th>date</th>\n",
       "      <th>turbidity_ntu_at_12am</th>\n",
       "    </tr>\n",
       "  </thead>\n",
       "  <tbody>\n",
       "    <tr>\n",
       "      <th>0</th>\n",
       "      <td>0.94</td>\n",
       "      <td>2015-05-27T00:00:00.000</td>\n",
       "      <td>0.8</td>\n",
       "    </tr>\n",
       "    <tr>\n",
       "      <th>1</th>\n",
       "      <td>0.71</td>\n",
       "      <td>2015-08-28T00:00:00.000</td>\n",
       "      <td>0.7</td>\n",
       "    </tr>\n",
       "    <tr>\n",
       "      <th>2</th>\n",
       "      <td>0.56</td>\n",
       "      <td>2015-08-15T00:00:00.000</td>\n",
       "      <td>0.6</td>\n",
       "    </tr>\n",
       "    <tr>\n",
       "      <th>3</th>\n",
       "      <td>0.73</td>\n",
       "      <td>2015-08-27T00:00:00.000</td>\n",
       "      <td>0.7</td>\n",
       "    </tr>\n",
       "    <tr>\n",
       "      <th>4</th>\n",
       "      <td>0.86</td>\n",
       "      <td>2015-05-31T00:00:00.000</td>\n",
       "      <td>0.95</td>\n",
       "    </tr>\n",
       "    <tr>\n",
       "      <th>5</th>\n",
       "      <td>0.73</td>\n",
       "      <td>2015-08-31T00:00:00.000</td>\n",
       "      <td>0.8</td>\n",
       "    </tr>\n",
       "    <tr>\n",
       "      <th>6</th>\n",
       "      <td>0.53</td>\n",
       "      <td>2015-08-16T00:00:00.000</td>\n",
       "      <td>0.55</td>\n",
       "    </tr>\n",
       "    <tr>\n",
       "      <th>7</th>\n",
       "      <td>0.69</td>\n",
       "      <td>2015-09-04T00:00:00.000</td>\n",
       "      <td>0.7</td>\n",
       "    </tr>\n",
       "  </tbody>\n",
       "</table>\n",
       "</div>"
      ],
      "text/plain": [
       "  average_24hrturbidity_ntu                     date turbidity_ntu_at_12am\n",
       "0                      0.94  2015-05-27T00:00:00.000                   0.8\n",
       "1                      0.71  2015-08-28T00:00:00.000                   0.7\n",
       "2                      0.56  2015-08-15T00:00:00.000                   0.6\n",
       "3                      0.73  2015-08-27T00:00:00.000                   0.7\n",
       "4                      0.86  2015-05-31T00:00:00.000                  0.95\n",
       "5                      0.73  2015-08-31T00:00:00.000                   0.8\n",
       "6                      0.53  2015-08-16T00:00:00.000                  0.55\n",
       "7                      0.69  2015-09-04T00:00:00.000                   0.7"
      ]
     },
     "execution_count": 48,
     "metadata": {},
     "output_type": "execute_result"
    }
   ],
   "source": [
    "#Display the top 8 rows of reducted df\n",
    "WQDATA_df.head(8)"
   ]
  },
  {
   "cell_type": "code",
   "execution_count": 49,
   "metadata": {},
   "outputs": [],
   "source": [
    "#my chosen dataset has a date column, so I still use the same dateset for the extra credit assignment\n",
    "#change the format of dates\n",
    "#change the data type of \"average_24hrturbidity_ntu\" and \"turbidity_ntu_at_12am\"\n",
    "WQDATA_df[\"date\"] = WQDATA_df[\"date\"].apply(lambda x: pd.Timestamp(x))\n",
    "WQDATA_df[\"average_24hrturbidity_ntu\"] = WQDATA_df[\"average_24hrturbidity_ntu\"].apply(lambda x: float(x))\n",
    "WQDATA_df[\"turbidity_ntu_at_12am\"] = WQDATA_df[\"turbidity_ntu_at_12am\"].apply(lambda x: float(x))"
   ]
  },
  {
   "cell_type": "code",
   "execution_count": 50,
   "metadata": {},
   "outputs": [
    {
     "data": {
      "text/html": [
       "<div>\n",
       "<style scoped>\n",
       "    .dataframe tbody tr th:only-of-type {\n",
       "        vertical-align: middle;\n",
       "    }\n",
       "\n",
       "    .dataframe tbody tr th {\n",
       "        vertical-align: top;\n",
       "    }\n",
       "\n",
       "    .dataframe thead th {\n",
       "        text-align: right;\n",
       "    }\n",
       "</style>\n",
       "<table border=\"1\" class=\"dataframe\">\n",
       "  <thead>\n",
       "    <tr style=\"text-align: right;\">\n",
       "      <th></th>\n",
       "      <th>average_24hrturbidity_ntu</th>\n",
       "      <th>date</th>\n",
       "      <th>turbidity_ntu_at_12am</th>\n",
       "    </tr>\n",
       "  </thead>\n",
       "  <tbody>\n",
       "    <tr>\n",
       "      <th>0</th>\n",
       "      <td>0.94</td>\n",
       "      <td>2015-05-27</td>\n",
       "      <td>0.80</td>\n",
       "    </tr>\n",
       "    <tr>\n",
       "      <th>1</th>\n",
       "      <td>0.71</td>\n",
       "      <td>2015-08-28</td>\n",
       "      <td>0.70</td>\n",
       "    </tr>\n",
       "    <tr>\n",
       "      <th>2</th>\n",
       "      <td>0.56</td>\n",
       "      <td>2015-08-15</td>\n",
       "      <td>0.60</td>\n",
       "    </tr>\n",
       "    <tr>\n",
       "      <th>3</th>\n",
       "      <td>0.73</td>\n",
       "      <td>2015-08-27</td>\n",
       "      <td>0.70</td>\n",
       "    </tr>\n",
       "    <tr>\n",
       "      <th>4</th>\n",
       "      <td>0.86</td>\n",
       "      <td>2015-05-31</td>\n",
       "      <td>0.95</td>\n",
       "    </tr>\n",
       "    <tr>\n",
       "      <th>5</th>\n",
       "      <td>0.73</td>\n",
       "      <td>2015-08-31</td>\n",
       "      <td>0.80</td>\n",
       "    </tr>\n",
       "    <tr>\n",
       "      <th>6</th>\n",
       "      <td>0.53</td>\n",
       "      <td>2015-08-16</td>\n",
       "      <td>0.55</td>\n",
       "    </tr>\n",
       "    <tr>\n",
       "      <th>7</th>\n",
       "      <td>0.69</td>\n",
       "      <td>2015-09-04</td>\n",
       "      <td>0.70</td>\n",
       "    </tr>\n",
       "  </tbody>\n",
       "</table>\n",
       "</div>"
      ],
      "text/plain": [
       "   average_24hrturbidity_ntu       date  turbidity_ntu_at_12am\n",
       "0                       0.94 2015-05-27                   0.80\n",
       "1                       0.71 2015-08-28                   0.70\n",
       "2                       0.56 2015-08-15                   0.60\n",
       "3                       0.73 2015-08-27                   0.70\n",
       "4                       0.86 2015-05-31                   0.95\n",
       "5                       0.73 2015-08-31                   0.80\n",
       "6                       0.53 2015-08-16                   0.55\n",
       "7                       0.69 2015-09-04                   0.70"
      ]
     },
     "execution_count": 50,
     "metadata": {},
     "output_type": "execute_result"
    }
   ],
   "source": [
    "#Display the processed df\n",
    "WQDATA_df.head(8)"
   ]
  },
  {
   "cell_type": "code",
   "execution_count": 51,
   "metadata": {},
   "outputs": [
    {
     "data": {
      "text/plain": [
       "Text(0.5,1,'Change of Average 24hr Turbidity by Time 2015 - 2017')"
      ]
     },
     "execution_count": 51,
     "metadata": {},
     "output_type": "execute_result"
    },
    {
     "data": {
      "image/png": "[encoded data removed]",
      "text/plain": [
       "<Figure size 576x288 with 1 Axes>"
      ]
     },
     "metadata": {},
     "output_type": "display_data"
    }
   ],
   "source": [
    "ax = WQDATA_df.plot(x='date', y='average_24hrturbidity_ntu',figsize= (8,4),fontsize = 10)\n",
    "ax.set_xlabel(\"Date\", fontsize=12)\n",
    "ax.set_ylabel(\"Turbidity\",fontsize=12)\n",
    "ax.set_title(\"Change of Average 24hr Turbidity by Time 2015 - 2017\",fontsize=14)"
   ]
  },
  {
   "cell_type": "markdown",
   "metadata": {},
   "source": [
    "Figure 1: Change of Average 24hr Turbidity by Time 2015 - 2017. Shown that there's not a clear trend, which means the average 24hr Turbidity does not increase or decrease over the two years. But there's potental seasonality which needs further analysis to prove."
   ]
  },
  {
   "cell_type": "code",
   "execution_count": 52,
   "metadata": {
    "scrolled": true
   },
   "outputs": [
    {
     "data": {
      "text/plain": [
       "Text(0.5,1,'Change of Turbidity at 12am by Time 2015 - 2017')"
      ]
     },
     "execution_count": 52,
     "metadata": {},
     "output_type": "execute_result"
    },
    {
     "data": {
      "image/png": "[encoded data removed]",
      "text/plain": [
       "<Figure size 576x288 with 1 Axes>"
      ]
     },
     "metadata": {},
     "output_type": "display_data"
    }
   ],
   "source": [
    "ax = WQDATA_df.plot(x='date', y='turbidity_ntu_at_12am', figsize= (8,4), fontsize = 10)\n",
    "ax.set_xlabel(\"Date\", fontsize=12)\n",
    "ax.set_ylabel(\"Turbidity\",fontsize=12)\n",
    "ax.set_title(\"Change of Turbidity at 12am by Time 2015 - 2017\", fontsize=14)"
   ]
  },
  {
   "cell_type": "markdown",
   "metadata": {},
   "source": [
    "Figure 2: Change of Turbidity at 12am by Time 2015 - 2017. Shown that there's not a clear trend, which means the Turbidity at 12am does not increase or decrease over the two years. But there's potental seasonality which needs further analysis to prove."
   ]
  }
 ],
 "metadata": {
  "kernelspec": {
   "display_name": "myEnv",
   "language": "python",
   "name": "myenv"
  },
  "language_info": {
   "codemirror_mode": {
    "name": "ipython",
    "version": 2
   },
   "file_extension": ".py",
   "mimetype": "text/x-python",
   "name": "python",
   "nbconvert_exporter": "python",
   "pygments_lexer": "ipython2",
   "version": "2.7.15"
  }
 },
 "nbformat": 4,
 "nbformat_minor": 2
}
