{
 "cells": [
  {
   "cell_type": "code",
   "execution_count": 2,
   "metadata": {},
   "outputs": [],
   "source": [
    "#HW3/Assignment2\n",
    "#uses NYC data portal NYC OPEN DATA https://data.cityofnewyork.us/"
   ]
  },
  {
   "cell_type": "code",
   "execution_count": 3,
   "metadata": {},
   "outputs": [
    {
     "name": "stdout",
     "output_type": "stream",
     "text": [
      "Populating the interactive namespace from numpy and matplotlib\n"
     ]
    }
   ],
   "source": [
    "from __future__ import print_function\n",
    "import pandas as pd\n",
    "%pylab inline\n",
    "import os"
   ]
  },
  {
   "cell_type": "code",
   "execution_count": 4,
   "metadata": {},
   "outputs": [
    {
     "name": "stdout",
     "output_type": "stream",
     "text": [
      "  % Total    % Received % Xferd  Average Speed   Time    Time     Time  Current\n",
      "                                 Dload  Upload   Total   Spent    Left  Speed\n",
      "100 70870    0 70870    0     0   192k      0 --:--:-- --:--:-- --:--:--  192k\n"
     ]
    }
   ],
   "source": [
    "!curl https://data.cityofnewyork.us/api/views/8c3c-yspd/rows.csv?accessType=DOWNLOAD > WQData.csv\n",
    "# Data source: https://data.cityofnewyork.us/Environment/Watershed-Water-Quality-Data/y43c-5n92"
   ]
  },
  {
   "cell_type": "code",
   "execution_count": 5,
   "metadata": {},
   "outputs": [
    {
     "name": "stdout",
     "output_type": "stream",
     "text": [
      "PUIdata /nfshome/yw1665/PUIdata\n"
     ]
    }
   ],
   "source": [
    "#Check the environmental variable; set up a new if it does exist\n",
    "if os.getenv(\"PUIDATA\") == None:\n",
    "    os.environ[\"PUIDATA\"] = \"%s/PUIdata\"%os.getenv(\"HOME\")\n",
    "\n",
    "print(\"PUIdata\", os.getenv(\"PUIDATA\"))"
   ]
  },
  {
   "cell_type": "code",
   "execution_count": 6,
   "metadata": {},
   "outputs": [],
   "source": [
    "!mv WQData.csv $PUIDATA"
   ]
  },
  {
   "cell_type": "code",
   "execution_count": 7,
   "metadata": {},
   "outputs": [
    {
     "name": "stdout",
     "output_type": "stream",
     "text": [
      "WQData.csv\r\n"
     ]
    }
   ],
   "source": [
    "!ls $PUIDATA"
   ]
  },
  {
   "cell_type": "code",
   "execution_count": 8,
   "metadata": {},
   "outputs": [],
   "source": [
    "#read in the data with pandas\n",
    "WQData = pd.read_csv(\"%s/WQData.csv\"%os.getenv(\"PUIDATA\"))"
   ]
  },
  {
   "cell_type": "code",
   "execution_count": 9,
   "metadata": {},
   "outputs": [
    {
     "data": {
      "text/html": [
       "<div>\n",
       "<style scoped>\n",
       "    .dataframe tbody tr th:only-of-type {\n",
       "        vertical-align: middle;\n",
       "    }\n",
       "\n",
       "    .dataframe tbody tr th {\n",
       "        vertical-align: top;\n",
       "    }\n",
       "\n",
       "    .dataframe thead th {\n",
       "        text-align: right;\n",
       "    }\n",
       "</style>\n",
       "<table border=\"1\" class=\"dataframe\">\n",
       "  <thead>\n",
       "    <tr style=\"text-align: right;\">\n",
       "      <th></th>\n",
       "      <th>Site</th>\n",
       "      <th>Date</th>\n",
       "      <th>Turbidity(NTU) at 12AM</th>\n",
       "      <th>Turbidity(NTU) at 4AM</th>\n",
       "      <th>Turbidity(NTU) at 8AM</th>\n",
       "      <th>Turbidity(NTU) at 12PM</th>\n",
       "      <th>Turbidity(NTU) at 4PM</th>\n",
       "      <th>Turbidity(NTU) at 8PM</th>\n",
       "      <th>Average 24hrTurbidity(NTU)</th>\n",
       "      <th>Coliform, Fecal(fc/100mL)</th>\n",
       "    </tr>\n",
       "  </thead>\n",
       "  <tbody>\n",
       "    <tr>\n",
       "      <th>0</th>\n",
       "      <td>DEL18DT</td>\n",
       "      <td>05/27/2015</td>\n",
       "      <td>0.80</td>\n",
       "      <td>0.95</td>\n",
       "      <td>0.95</td>\n",
       "      <td>1.10</td>\n",
       "      <td>0.95</td>\n",
       "      <td>0.90</td>\n",
       "      <td>0.94</td>\n",
       "      <td>&lt;1</td>\n",
       "    </tr>\n",
       "    <tr>\n",
       "      <th>1</th>\n",
       "      <td>DEL18DT</td>\n",
       "      <td>08/28/2015</td>\n",
       "      <td>0.70</td>\n",
       "      <td>0.65</td>\n",
       "      <td>0.65</td>\n",
       "      <td>0.70</td>\n",
       "      <td>0.75</td>\n",
       "      <td>0.80</td>\n",
       "      <td>0.71</td>\n",
       "      <td>&lt;1</td>\n",
       "    </tr>\n",
       "    <tr>\n",
       "      <th>2</th>\n",
       "      <td>DEL18DT</td>\n",
       "      <td>08/15/2015</td>\n",
       "      <td>0.60</td>\n",
       "      <td>0.55</td>\n",
       "      <td>0.55</td>\n",
       "      <td>0.50</td>\n",
       "      <td>0.60</td>\n",
       "      <td>0.55</td>\n",
       "      <td>0.56</td>\n",
       "      <td>&lt;1</td>\n",
       "    </tr>\n",
       "    <tr>\n",
       "      <th>3</th>\n",
       "      <td>DEL18DT</td>\n",
       "      <td>08/27/2015</td>\n",
       "      <td>0.70</td>\n",
       "      <td>0.70</td>\n",
       "      <td>0.75</td>\n",
       "      <td>0.65</td>\n",
       "      <td>0.80</td>\n",
       "      <td>0.80</td>\n",
       "      <td>0.73</td>\n",
       "      <td>1</td>\n",
       "    </tr>\n",
       "    <tr>\n",
       "      <th>4</th>\n",
       "      <td>DEL18DT</td>\n",
       "      <td>05/31/2015</td>\n",
       "      <td>0.95</td>\n",
       "      <td>0.85</td>\n",
       "      <td>0.85</td>\n",
       "      <td>0.80</td>\n",
       "      <td>0.85</td>\n",
       "      <td>0.85</td>\n",
       "      <td>0.86</td>\n",
       "      <td>&lt;1</td>\n",
       "    </tr>\n",
       "    <tr>\n",
       "      <th>5</th>\n",
       "      <td>DEL18DT</td>\n",
       "      <td>08/31/2015</td>\n",
       "      <td>0.80</td>\n",
       "      <td>0.80</td>\n",
       "      <td>0.80</td>\n",
       "      <td>0.60</td>\n",
       "      <td>0.65</td>\n",
       "      <td>0.70</td>\n",
       "      <td>0.73</td>\n",
       "      <td>&lt;1</td>\n",
       "    </tr>\n",
       "    <tr>\n",
       "      <th>6</th>\n",
       "      <td>DEL18DT</td>\n",
       "      <td>08/16/2015</td>\n",
       "      <td>0.55</td>\n",
       "      <td>0.50</td>\n",
       "      <td>0.60</td>\n",
       "      <td>0.50</td>\n",
       "      <td>0.50</td>\n",
       "      <td>0.50</td>\n",
       "      <td>0.53</td>\n",
       "      <td>&lt;1</td>\n",
       "    </tr>\n",
       "  </tbody>\n",
       "</table>\n",
       "</div>"
      ],
      "text/plain": [
       "      Site        Date  Turbidity(NTU) at 12AM  Turbidity(NTU) at 4AM  \\\n",
       "0  DEL18DT  05/27/2015                    0.80                   0.95   \n",
       "1  DEL18DT  08/28/2015                    0.70                   0.65   \n",
       "2  DEL18DT  08/15/2015                    0.60                   0.55   \n",
       "3  DEL18DT  08/27/2015                    0.70                   0.70   \n",
       "4  DEL18DT  05/31/2015                    0.95                   0.85   \n",
       "5  DEL18DT  08/31/2015                    0.80                   0.80   \n",
       "6  DEL18DT  08/16/2015                    0.55                   0.50   \n",
       "\n",
       "   Turbidity(NTU) at 8AM  Turbidity(NTU) at 12PM  Turbidity(NTU) at 4PM  \\\n",
       "0                   0.95                    1.10                   0.95   \n",
       "1                   0.65                    0.70                   0.75   \n",
       "2                   0.55                    0.50                   0.60   \n",
       "3                   0.75                    0.65                   0.80   \n",
       "4                   0.85                    0.80                   0.85   \n",
       "5                   0.80                    0.60                   0.65   \n",
       "6                   0.60                    0.50                   0.50   \n",
       "\n",
       "   Turbidity(NTU) at 8PM  Average 24hrTurbidity(NTU) Coliform, Fecal(fc/100mL)  \n",
       "0                   0.90                        0.94                        <1  \n",
       "1                   0.80                        0.71                        <1  \n",
       "2                   0.55                        0.56                        <1  \n",
       "3                   0.80                        0.73                         1  \n",
       "4                   0.85                        0.86                        <1  \n",
       "5                   0.70                        0.73                        <1  \n",
       "6                   0.50                        0.53                        <1  "
      ]
     },
     "execution_count": 9,
     "metadata": {},
     "output_type": "execute_result"
    }
   ],
   "source": [
    "#Display the top 7 rows of unreducted df\n",
    "WQData.head(7)"
   ]
  },
  {
   "cell_type": "code",
   "execution_count": 10,
   "metadata": {},
   "outputs": [
    {
     "data": {
      "text/plain": [
       "Index([u'Site', u'Date', u'Turbidity(NTU) at 12AM', u'Turbidity(NTU) at 4AM',\n",
       "       u'Turbidity(NTU) at 8AM', u'Turbidity(NTU) at 12PM',\n",
       "       u'Turbidity(NTU) at 4PM', u'Turbidity(NTU) at 8PM',\n",
       "       u'Average 24hrTurbidity(NTU)', u'Coliform, Fecal(fc/100mL)'],\n",
       "      dtype='object')"
      ]
     },
     "execution_count": 10,
     "metadata": {},
     "output_type": "execute_result"
    }
   ],
   "source": [
    "WQData.columns"
   ]
  },
  {
   "cell_type": "code",
   "execution_count": 11,
   "metadata": {},
   "outputs": [],
   "source": [
    "WQData.drop(columns=['Site','Date',  'Turbidity(NTU) at 4AM',\n",
    "       'Turbidity(NTU) at 8AM', 'Turbidity(NTU) at 12PM',\n",
    "       'Turbidity(NTU) at 4PM', 'Turbidity(NTU) at 8PM', 'Coliform, Fecal(fc/100mL)'], inplace=True)"
   ]
  },
  {
   "cell_type": "code",
   "execution_count": 12,
   "metadata": {},
   "outputs": [
    {
     "data": {
      "text/html": [
       "<div>\n",
       "<style scoped>\n",
       "    .dataframe tbody tr th:only-of-type {\n",
       "        vertical-align: middle;\n",
       "    }\n",
       "\n",
       "    .dataframe tbody tr th {\n",
       "        vertical-align: top;\n",
       "    }\n",
       "\n",
       "    .dataframe thead th {\n",
       "        text-align: right;\n",
       "    }\n",
       "</style>\n",
       "<table border=\"1\" class=\"dataframe\">\n",
       "  <thead>\n",
       "    <tr style=\"text-align: right;\">\n",
       "      <th></th>\n",
       "      <th>Turbidity(NTU) at 12AM</th>\n",
       "      <th>Average 24hrTurbidity(NTU)</th>\n",
       "    </tr>\n",
       "  </thead>\n",
       "  <tbody>\n",
       "    <tr>\n",
       "      <th>0</th>\n",
       "      <td>0.80</td>\n",
       "      <td>0.94</td>\n",
       "    </tr>\n",
       "    <tr>\n",
       "      <th>1</th>\n",
       "      <td>0.70</td>\n",
       "      <td>0.71</td>\n",
       "    </tr>\n",
       "    <tr>\n",
       "      <th>2</th>\n",
       "      <td>0.60</td>\n",
       "      <td>0.56</td>\n",
       "    </tr>\n",
       "    <tr>\n",
       "      <th>3</th>\n",
       "      <td>0.70</td>\n",
       "      <td>0.73</td>\n",
       "    </tr>\n",
       "    <tr>\n",
       "      <th>4</th>\n",
       "      <td>0.95</td>\n",
       "      <td>0.86</td>\n",
       "    </tr>\n",
       "    <tr>\n",
       "      <th>5</th>\n",
       "      <td>0.80</td>\n",
       "      <td>0.73</td>\n",
       "    </tr>\n",
       "    <tr>\n",
       "      <th>6</th>\n",
       "      <td>0.55</td>\n",
       "      <td>0.53</td>\n",
       "    </tr>\n",
       "  </tbody>\n",
       "</table>\n",
       "</div>"
      ],
      "text/plain": [
       "   Turbidity(NTU) at 12AM  Average 24hrTurbidity(NTU)\n",
       "0                    0.80                        0.94\n",
       "1                    0.70                        0.71\n",
       "2                    0.60                        0.56\n",
       "3                    0.70                        0.73\n",
       "4                    0.95                        0.86\n",
       "5                    0.80                        0.73\n",
       "6                    0.55                        0.53"
      ]
     },
     "execution_count": 12,
     "metadata": {},
     "output_type": "execute_result"
    }
   ],
   "source": [
    "#Display the top 7 rows of reducted df\n",
    "WQData.head(7)"
   ]
  },
  {
   "cell_type": "code",
   "execution_count": 17,
   "metadata": {},
   "outputs": [
    {
     "data": {
      "text/plain": [
       "Text(0,0.5,'Average 24hr Turbidity (NTU)')"
      ]
     },
     "execution_count": 17,
     "metadata": {},
     "output_type": "execute_result"
    },
    {
     "data": {
      "image/png": "[encoded data removed]",
      "text/plain": [
       "<Figure size 864x576 with 1 Axes>"
      ]
     },
     "metadata": {},
     "output_type": "display_data"
    }
   ],
   "source": [
    "ax = WQData.plot.scatter(x = 'Turbidity(NTU) at 12AM', y='Average 24hrTurbidity(NTU)', figsize= (12,8), fontsize = 14)\n",
    "ax.set_title('Turbidity at 12 am vs Average 24hr Turbidity',fontsize=18)\n",
    "ax.set_xlabel(\"Turbidity (NTU) at 12AM\", fontsize = 16)\n",
    "ax.set_ylabel(\"Average 24hr Turbidity (NTU)\", fontsize = 16)"
   ]
  },
  {
   "cell_type": "markdown",
   "metadata": {},
   "source": [
    "Figure1: Turbidity at 12 am vs Average 24hr Turbidity. Shown that there's a positive relationship between Turbidity at 12 am and Average 24hr turbidy, which means the higher the Turbidity at 12 am, the average 24hr Turbidity also tends to be higher"
   ]
  }
 ],
 "metadata": {
  "kernelspec": {
   "display_name": "myEnv",
   "language": "python",
   "name": "myenv"
  },
  "language_info": {
   "codemirror_mode": {
    "name": "ipython",
    "version": 2
   },
   "file_extension": ".py",
   "mimetype": "text/x-python",
   "name": "python",
   "nbconvert_exporter": "python",
   "pygments_lexer": "ipython2",
   "version": "2.7.15"
  }
 },
 "nbformat": 4,
 "nbformat_minor": 2
}
